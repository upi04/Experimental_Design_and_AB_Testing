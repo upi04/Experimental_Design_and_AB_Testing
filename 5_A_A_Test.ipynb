{
  "nbformat": 4,
  "nbformat_minor": 0,
  "metadata": {
    "colab": {
      "provenance": []
    },
    "kernelspec": {
      "name": "python3",
      "display_name": "Python 3"
    },
    "language_info": {
      "name": "python"
    }
  },
  "cells": [
    {
      "cell_type": "markdown",
      "source": [
        "# **5 - A/A Test**\n",
        "\n",
        "Experimental Design and A/B testing"
      ],
      "metadata": {
        "id": "azgCC7xXerzv"
      }
    },
    {
      "cell_type": "markdown",
      "source": [
        "**Outline**\n",
        "\n",
        "1. Topic Review\n",
        "2. Simulating A/A test"
      ],
      "metadata": {
        "id": "6lMcXHptewLW"
      }
    },
    {
      "cell_type": "markdown",
      "source": [
        "# <font color='blue'>1. Topic Review</font>\n",
        "---\n"
      ],
      "metadata": {
        "id": "ilaGlCTHexHv"
      }
    },
    {
      "cell_type": "markdown",
      "source": [
        "**What is A/A Test?**\n",
        "\n",
        "- A/A tests are the same as A/B tests, but Treatment and Control users receive **identical** experiences.\n",
        "- If A/A test shows that each version works about the **same**, we can trust that **everything is set up right**.\n",
        "- With an A/A test, we want to make sure that there is n**o difference between variants in the results**.\n",
        "\n",
        "**Why A/A Tests?**\n",
        "- To validate that we have set-up and run the test or experiment properly\n",
        "- The generated data from experiment are accurate and reliable\n",
        "\n",
        "**How to run A/A test?**\n",
        "\n",
        "We can make simulation about A/A test result with the following steps :\n",
        "1. First, randomly sampling data into two identical variants.\n",
        "2. Then, calculate the means or proportions (depend on metric) of each variant\n",
        "3. Run the statistical test and get the p-values\n",
        "4. Repeat step 1-3 $n$ times and get $n$ p-values\n",
        "5. Accumulate the $n$ p-values to histogram\n",
        "6. Run the goodness-of-fit test for $n$ p-values data\n",
        "  - We can use **Kolmogorov-Smirnov test** for goodness of fit test\n",
        "  - The distribution of p-values under the Null hypothesis (equal means or proportions) should be **uniform**.\n",
        "\n",
        "\n",
        "**Through this notebook, we will simulate the A/A test.**\n",
        "\n"
      ],
      "metadata": {
        "id": "EtfkEbcAeyM-"
      }
    },
    {
      "cell_type": "markdown",
      "source": [
        "# <font color='blue'>2. Simulating A/A Test</font>\n",
        "---\n"
      ],
      "metadata": {
        "id": "lzFZWcBEezfP"
      }
    },
    {
      "cell_type": "markdown",
      "source": [
        "## Simulating Good A/A test"
      ],
      "metadata": {
        "id": "5tZJSmLhe1Mt"
      }
    },
    {
      "cell_type": "markdown",
      "source": [
        "- In this simulation, we will use dummy data.\n",
        "- First, we create a dummy data set of historical data.\n",
        "- The data is a 2-week A/A test experiment on channels that broadcast Mobile Legend with the metric **hours watched**.\n",
        "- We would pull a data set for the past 2-week period containing channel_id and hours watched in that period for those channels that broadcast Mobile Legend.\n"
      ],
      "metadata": {
        "id": "46kRt_0ne2P1"
      }
    },
    {
      "cell_type": "code",
      "source": [
        "# Import this library first\n",
        "import numpy as np\n",
        "import pandas as pd"
      ],
      "metadata": {
        "id": "-ZX1aVZbe3Tv"
      },
      "execution_count": 1,
      "outputs": []
    },
    {
      "cell_type": "code",
      "source": [
        "# Generate data\n",
        "np.random.seed(42)\n",
        "\n",
        "# Generate 1000 data\n",
        "n = 1000\n",
        "\n",
        "# make dataframe\n",
        "data = pd.DataFrame()\n",
        "\n",
        "# make first column of dataframe that contain channel_id\n",
        "# we want to generate data with the number of 1-1000 n times\n",
        "data[\"channel_id\"] = np.random.choice(1000, n,\n",
        "                                      replace = False)\n",
        "\n",
        "# make second column of dataframe that contain our metric\n",
        "data['hours_watched'] = np.random.random(n)\n",
        "\n",
        "# print 5 rows of data\n",
        "data.head()"
      ],
      "metadata": {
        "id": "cJ6QBnqqe5be",
        "colab": {
          "base_uri": "https://localhost:8080/",
          "height": 206
        },
        "outputId": "09ce500f-ee58-4127-b5ba-119a0c3fdea3"
      },
      "execution_count": 2,
      "outputs": [
        {
          "output_type": "execute_result",
          "data": {
            "text/plain": [
              "   channel_id  hours_watched\n",
              "0         521       0.989960\n",
              "1         737       0.322354\n",
              "2         740       0.809874\n",
              "3         660       0.254641\n",
              "4         411       0.681503"
            ],
            "text/html": [
              "\n",
              "  <div id=\"df-5c7944bf-2e6b-43f9-8339-c346886befdc\" class=\"colab-df-container\">\n",
              "    <div>\n",
              "<style scoped>\n",
              "    .dataframe tbody tr th:only-of-type {\n",
              "        vertical-align: middle;\n",
              "    }\n",
              "\n",
              "    .dataframe tbody tr th {\n",
              "        vertical-align: top;\n",
              "    }\n",
              "\n",
              "    .dataframe thead th {\n",
              "        text-align: right;\n",
              "    }\n",
              "</style>\n",
              "<table border=\"1\" class=\"dataframe\">\n",
              "  <thead>\n",
              "    <tr style=\"text-align: right;\">\n",
              "      <th></th>\n",
              "      <th>channel_id</th>\n",
              "      <th>hours_watched</th>\n",
              "    </tr>\n",
              "  </thead>\n",
              "  <tbody>\n",
              "    <tr>\n",
              "      <th>0</th>\n",
              "      <td>521</td>\n",
              "      <td>0.989960</td>\n",
              "    </tr>\n",
              "    <tr>\n",
              "      <th>1</th>\n",
              "      <td>737</td>\n",
              "      <td>0.322354</td>\n",
              "    </tr>\n",
              "    <tr>\n",
              "      <th>2</th>\n",
              "      <td>740</td>\n",
              "      <td>0.809874</td>\n",
              "    </tr>\n",
              "    <tr>\n",
              "      <th>3</th>\n",
              "      <td>660</td>\n",
              "      <td>0.254641</td>\n",
              "    </tr>\n",
              "    <tr>\n",
              "      <th>4</th>\n",
              "      <td>411</td>\n",
              "      <td>0.681503</td>\n",
              "    </tr>\n",
              "  </tbody>\n",
              "</table>\n",
              "</div>\n",
              "    <div class=\"colab-df-buttons\">\n",
              "\n",
              "  <div class=\"colab-df-container\">\n",
              "    <button class=\"colab-df-convert\" onclick=\"convertToInteractive('df-5c7944bf-2e6b-43f9-8339-c346886befdc')\"\n",
              "            title=\"Convert this dataframe to an interactive table.\"\n",
              "            style=\"display:none;\">\n",
              "\n",
              "  <svg xmlns=\"http://www.w3.org/2000/svg\" height=\"24px\" viewBox=\"0 -960 960 960\">\n",
              "    <path d=\"M120-120v-720h720v720H120Zm60-500h600v-160H180v160Zm220 220h160v-160H400v160Zm0 220h160v-160H400v160ZM180-400h160v-160H180v160Zm440 0h160v-160H620v160ZM180-180h160v-160H180v160Zm440 0h160v-160H620v160Z\"/>\n",
              "  </svg>\n",
              "    </button>\n",
              "\n",
              "  <style>\n",
              "    .colab-df-container {\n",
              "      display:flex;\n",
              "      gap: 12px;\n",
              "    }\n",
              "\n",
              "    .colab-df-convert {\n",
              "      background-color: #E8F0FE;\n",
              "      border: none;\n",
              "      border-radius: 50%;\n",
              "      cursor: pointer;\n",
              "      display: none;\n",
              "      fill: #1967D2;\n",
              "      height: 32px;\n",
              "      padding: 0 0 0 0;\n",
              "      width: 32px;\n",
              "    }\n",
              "\n",
              "    .colab-df-convert:hover {\n",
              "      background-color: #E2EBFA;\n",
              "      box-shadow: 0px 1px 2px rgba(60, 64, 67, 0.3), 0px 1px 3px 1px rgba(60, 64, 67, 0.15);\n",
              "      fill: #174EA6;\n",
              "    }\n",
              "\n",
              "    .colab-df-buttons div {\n",
              "      margin-bottom: 4px;\n",
              "    }\n",
              "\n",
              "    [theme=dark] .colab-df-convert {\n",
              "      background-color: #3B4455;\n",
              "      fill: #D2E3FC;\n",
              "    }\n",
              "\n",
              "    [theme=dark] .colab-df-convert:hover {\n",
              "      background-color: #434B5C;\n",
              "      box-shadow: 0px 1px 3px 1px rgba(0, 0, 0, 0.15);\n",
              "      filter: drop-shadow(0px 1px 2px rgba(0, 0, 0, 0.3));\n",
              "      fill: #FFFFFF;\n",
              "    }\n",
              "  </style>\n",
              "\n",
              "    <script>\n",
              "      const buttonEl =\n",
              "        document.querySelector('#df-5c7944bf-2e6b-43f9-8339-c346886befdc button.colab-df-convert');\n",
              "      buttonEl.style.display =\n",
              "        google.colab.kernel.accessAllowed ? 'block' : 'none';\n",
              "\n",
              "      async function convertToInteractive(key) {\n",
              "        const element = document.querySelector('#df-5c7944bf-2e6b-43f9-8339-c346886befdc');\n",
              "        const dataTable =\n",
              "          await google.colab.kernel.invokeFunction('convertToInteractive',\n",
              "                                                    [key], {});\n",
              "        if (!dataTable) return;\n",
              "\n",
              "        const docLinkHtml = 'Like what you see? Visit the ' +\n",
              "          '<a target=\"_blank\" href=https://colab.research.google.com/notebooks/data_table.ipynb>data table notebook</a>'\n",
              "          + ' to learn more about interactive tables.';\n",
              "        element.innerHTML = '';\n",
              "        dataTable['output_type'] = 'display_data';\n",
              "        await google.colab.output.renderOutput(dataTable, element);\n",
              "        const docLink = document.createElement('div');\n",
              "        docLink.innerHTML = docLinkHtml;\n",
              "        element.appendChild(docLink);\n",
              "      }\n",
              "    </script>\n",
              "  </div>\n",
              "\n",
              "\n",
              "    <div id=\"df-1d155b1b-7376-4f53-9a25-5cbaae03af66\">\n",
              "      <button class=\"colab-df-quickchart\" onclick=\"quickchart('df-1d155b1b-7376-4f53-9a25-5cbaae03af66')\"\n",
              "                title=\"Suggest charts\"\n",
              "                style=\"display:none;\">\n",
              "\n",
              "<svg xmlns=\"http://www.w3.org/2000/svg\" height=\"24px\"viewBox=\"0 0 24 24\"\n",
              "     width=\"24px\">\n",
              "    <g>\n",
              "        <path d=\"M19 3H5c-1.1 0-2 .9-2 2v14c0 1.1.9 2 2 2h14c1.1 0 2-.9 2-2V5c0-1.1-.9-2-2-2zM9 17H7v-7h2v7zm4 0h-2V7h2v10zm4 0h-2v-4h2v4z\"/>\n",
              "    </g>\n",
              "</svg>\n",
              "      </button>\n",
              "\n",
              "<style>\n",
              "  .colab-df-quickchart {\n",
              "      --bg-color: #E8F0FE;\n",
              "      --fill-color: #1967D2;\n",
              "      --hover-bg-color: #E2EBFA;\n",
              "      --hover-fill-color: #174EA6;\n",
              "      --disabled-fill-color: #AAA;\n",
              "      --disabled-bg-color: #DDD;\n",
              "  }\n",
              "\n",
              "  [theme=dark] .colab-df-quickchart {\n",
              "      --bg-color: #3B4455;\n",
              "      --fill-color: #D2E3FC;\n",
              "      --hover-bg-color: #434B5C;\n",
              "      --hover-fill-color: #FFFFFF;\n",
              "      --disabled-bg-color: #3B4455;\n",
              "      --disabled-fill-color: #666;\n",
              "  }\n",
              "\n",
              "  .colab-df-quickchart {\n",
              "    background-color: var(--bg-color);\n",
              "    border: none;\n",
              "    border-radius: 50%;\n",
              "    cursor: pointer;\n",
              "    display: none;\n",
              "    fill: var(--fill-color);\n",
              "    height: 32px;\n",
              "    padding: 0;\n",
              "    width: 32px;\n",
              "  }\n",
              "\n",
              "  .colab-df-quickchart:hover {\n",
              "    background-color: var(--hover-bg-color);\n",
              "    box-shadow: 0 1px 2px rgba(60, 64, 67, 0.3), 0 1px 3px 1px rgba(60, 64, 67, 0.15);\n",
              "    fill: var(--button-hover-fill-color);\n",
              "  }\n",
              "\n",
              "  .colab-df-quickchart-complete:disabled,\n",
              "  .colab-df-quickchart-complete:disabled:hover {\n",
              "    background-color: var(--disabled-bg-color);\n",
              "    fill: var(--disabled-fill-color);\n",
              "    box-shadow: none;\n",
              "  }\n",
              "\n",
              "  .colab-df-spinner {\n",
              "    border: 2px solid var(--fill-color);\n",
              "    border-color: transparent;\n",
              "    border-bottom-color: var(--fill-color);\n",
              "    animation:\n",
              "      spin 1s steps(1) infinite;\n",
              "  }\n",
              "\n",
              "  @keyframes spin {\n",
              "    0% {\n",
              "      border-color: transparent;\n",
              "      border-bottom-color: var(--fill-color);\n",
              "      border-left-color: var(--fill-color);\n",
              "    }\n",
              "    20% {\n",
              "      border-color: transparent;\n",
              "      border-left-color: var(--fill-color);\n",
              "      border-top-color: var(--fill-color);\n",
              "    }\n",
              "    30% {\n",
              "      border-color: transparent;\n",
              "      border-left-color: var(--fill-color);\n",
              "      border-top-color: var(--fill-color);\n",
              "      border-right-color: var(--fill-color);\n",
              "    }\n",
              "    40% {\n",
              "      border-color: transparent;\n",
              "      border-right-color: var(--fill-color);\n",
              "      border-top-color: var(--fill-color);\n",
              "    }\n",
              "    60% {\n",
              "      border-color: transparent;\n",
              "      border-right-color: var(--fill-color);\n",
              "    }\n",
              "    80% {\n",
              "      border-color: transparent;\n",
              "      border-right-color: var(--fill-color);\n",
              "      border-bottom-color: var(--fill-color);\n",
              "    }\n",
              "    90% {\n",
              "      border-color: transparent;\n",
              "      border-bottom-color: var(--fill-color);\n",
              "    }\n",
              "  }\n",
              "</style>\n",
              "\n",
              "      <script>\n",
              "        async function quickchart(key) {\n",
              "          const quickchartButtonEl =\n",
              "            document.querySelector('#' + key + ' button');\n",
              "          quickchartButtonEl.disabled = true;  // To prevent multiple clicks.\n",
              "          quickchartButtonEl.classList.add('colab-df-spinner');\n",
              "          try {\n",
              "            const charts = await google.colab.kernel.invokeFunction(\n",
              "                'suggestCharts', [key], {});\n",
              "          } catch (error) {\n",
              "            console.error('Error during call to suggestCharts:', error);\n",
              "          }\n",
              "          quickchartButtonEl.classList.remove('colab-df-spinner');\n",
              "          quickchartButtonEl.classList.add('colab-df-quickchart-complete');\n",
              "        }\n",
              "        (() => {\n",
              "          let quickchartButtonEl =\n",
              "            document.querySelector('#df-1d155b1b-7376-4f53-9a25-5cbaae03af66 button');\n",
              "          quickchartButtonEl.style.display =\n",
              "            google.colab.kernel.accessAllowed ? 'block' : 'none';\n",
              "        })();\n",
              "      </script>\n",
              "    </div>\n",
              "\n",
              "    </div>\n",
              "  </div>\n"
            ],
            "application/vnd.google.colaboratory.intrinsic+json": {
              "type": "dataframe",
              "variable_name": "data",
              "summary": "{\n  \"name\": \"data\",\n  \"rows\": 1000,\n  \"fields\": [\n    {\n      \"column\": \"channel_id\",\n      \"properties\": {\n        \"dtype\": \"number\",\n        \"std\": 288,\n        \"min\": 0,\n        \"max\": 999,\n        \"num_unique_values\": 1000,\n        \"samples\": [\n          666,\n          129,\n          784\n        ],\n        \"semantic_type\": \"\",\n        \"description\": \"\"\n      }\n    },\n    {\n      \"column\": \"hours_watched\",\n      \"properties\": {\n        \"dtype\": \"number\",\n        \"std\": 0.2912061249561182,\n        \"min\": 0.004632023004602859,\n        \"max\": 0.9994137257706666,\n        \"num_unique_values\": 1000,\n        \"samples\": [\n          0.3975943979627943,\n          0.6726021182251263,\n          0.1771497894473859\n        ],\n        \"semantic_type\": \"\",\n        \"description\": \"\"\n      }\n    }\n  ]\n}"
            }
          },
          "metadata": {},
          "execution_count": 2
        }
      ]
    },
    {
      "cell_type": "code",
      "source": [
        "# overview about data\n",
        "data.info()"
      ],
      "metadata": {
        "id": "8XwZubpFe6mV",
        "colab": {
          "base_uri": "https://localhost:8080/"
        },
        "outputId": "c60875f6-4760-43e2-e8f5-9b7633fcb01b"
      },
      "execution_count": 3,
      "outputs": [
        {
          "output_type": "stream",
          "name": "stdout",
          "text": [
            "<class 'pandas.core.frame.DataFrame'>\n",
            "RangeIndex: 1000 entries, 0 to 999\n",
            "Data columns (total 2 columns):\n",
            " #   Column         Non-Null Count  Dtype  \n",
            "---  ------         --------------  -----  \n",
            " 0   channel_id     1000 non-null   int64  \n",
            " 1   hours_watched  1000 non-null   float64\n",
            "dtypes: float64(1), int64(1)\n",
            "memory usage: 15.8 KB\n"
          ]
        }
      ]
    },
    {
      "cell_type": "code",
      "source": [
        "import matplotlib.pyplot as plt\n",
        "import seaborn as sns\n",
        "\n",
        "fig, ax = plt.subplots(nrows=1, ncols=1, figsize=(10, 7))\n",
        "\n",
        "sns.histplot(data['hours_watched'],\n",
        "             bins = 20,\n",
        "             kde = False)\n",
        "\n",
        "plt.show()"
      ],
      "metadata": {
        "id": "qUOeiADTe7pe",
        "colab": {
          "base_uri": "https://localhost:8080/",
          "height": 619
        },
        "outputId": "ca18a109-2c8b-4165-f7ab-83fb74b48658"
      },
      "execution_count": 4,
      "outputs": [
        {
          "output_type": "display_data",
          "data": {
            "text/plain": [
              "<Figure size 1000x700 with 1 Axes>"
            ],
            "image/png": "[encoded data removed]"
          },
          "metadata": {}
        }
      ]
    },
    {
      "cell_type": "markdown",
      "source": [
        "We can see that, the data generated have uniform distribution."
      ],
      "metadata": {
        "id": "LExhfHO6e-GX"
      }
    },
    {
      "cell_type": "markdown",
      "source": [
        "- Once the data set is created, the second step is to generate the $n$ distribution of p-values from simulated A/A tests.\n",
        "- This is where we randomly divide the data into treatments or controls group for $n$ iterations\n",
        "- Then, we calculate the average in each group for $n$ iterations\n",
        "- After that, run the t-test on each split of $n$ iteration with the following hypothesis:\n",
        "\n",
        "$$H_{0} : \\mu_{\\text{A}_{\\text{control}}} = \\mu_{\\text{A}_{\\text{treatment}}}$$\n",
        "$$H_{1} : \\mu_{\\text{A}_{\\text{control}}} \\neq \\mu_{\\text{A}_{\\text{treatment}}}$$\n",
        "\n"
      ],
      "metadata": {
        "id": "90iB_RtLe_Sv"
      }
    },
    {
      "cell_type": "markdown",
      "source": [
        "- To randomly sampling data into two group, it can be done with the syntax:\n",
        "\n",
        "```python\n",
        "data.sample(n = ...,\n",
        "            replace =...)\n",
        "```\n",
        "- Descriptions\n",
        "\n",
        "  - `n` : how many sample size. In this case we want to divide equally for two group, or 50:50.\n",
        "\n",
        "  - `replace` : `True` for sampling with replacement or `False` for sampling without replacement"
      ],
      "metadata": {
        "id": "6oJdQqSHfAud"
      }
    },
    {
      "cell_type": "code",
      "source": [
        "np.random.seed(1234)\n",
        "\n",
        "# get control dataset\n",
        "# Assign 50% of total data to control group\n",
        "control_data = data.sample(frac = 0.5,\n",
        "                           replace = False)\n",
        "\n",
        "# get statistics for the control data\n",
        "c_mean = control_data['hours_watched'].mean()   #mean\n",
        "c_std  = control_data['hours_watched'].std()    #standar deviation\n",
        "c_obs  = len(control_data)                      #number of observation\n",
        "\n",
        "#print statistics of control data\n",
        "print(\"A control\")\n",
        "print(f\"mean                  : {c_mean:0.3f}\")\n",
        "print(f\"standar deviation     : {c_std:0.3f}\")\n",
        "print(f\"number of observation : {c_obs}\")"
      ],
      "metadata": {
        "id": "JF8UHzI6kAok",
        "colab": {
          "base_uri": "https://localhost:8080/"
        },
        "outputId": "44850d19-a8bc-4e62-beb7-ee6e9b459630"
      },
      "execution_count": 5,
      "outputs": [
        {
          "output_type": "stream",
          "name": "stdout",
          "text": [
            "A control\n",
            "mean                  : 0.517\n",
            "standar deviation     : 0.290\n",
            "number of observation : 500\n"
          ]
        }
      ]
    },
    {
      "cell_type": "code",
      "source": [
        "# get treatment dataset\n",
        "# treatment dataset is the remaining data that has not been assigned to control\n",
        "\n",
        "# Find the index of control data\n",
        "index_control = control_data.index\n",
        "\n",
        "# Find treatment data\n",
        "# Treatment = Total - Control\n",
        "treatment_data = data.drop(index = index_control)\n",
        "\n",
        "\n",
        "# get statistics for the treatment data\n",
        "t_mean = treatment_data['hours_watched'].mean()  #mean\n",
        "t_std  = treatment_data['hours_watched'].std()   #standar deviation\n",
        "t_obs = len(treatment_data)                      #number of observation\n",
        "\n",
        "#print statistics of treatment data\n",
        "print(\"A treatment\")\n",
        "print(f\"mean                  : {t_mean:0.3f}\")\n",
        "print(f\"standar deviation     : {t_std:0.3f}\")\n",
        "print(f\"number of observation : {t_obs}\")"
      ],
      "metadata": {
        "id": "fglekjWzkBj2",
        "colab": {
          "base_uri": "https://localhost:8080/"
        },
        "outputId": "852b5d10-cec4-495e-e534-3ff3de778661"
      },
      "execution_count": 6,
      "outputs": [
        {
          "output_type": "stream",
          "name": "stdout",
          "text": [
            "A treatment\n",
            "mean                  : 0.494\n",
            "standar deviation     : 0.292\n",
            "number of observation : 500\n"
          ]
        }
      ]
    },
    {
      "cell_type": "markdown",
      "source": [
        "- Next, we will perform t-test for A control and A treatment\\.\n",
        "\n",
        "  - We will use another way for performing t-test, but use the same library as alwasy, namely `scipy`.\n",
        "  - We will conduct T-test for means of two samples from descriptive statistics.\n",
        "  - We can use function `stats.ttest_ind_from_stats`.\n",
        "\n",
        "\n",
        "  - The syntax is\n",
        "```python\n",
        "scipy.stats.ttest_ind_from_stats(mean1, std1, nobs1,\n",
        "                                     mean2, std2, nobs2,\n",
        "                                     equal_var=...,\n",
        "                                     alternative=...)\n",
        "```\n",
        "\n",
        "  - Description\n",
        "    - `mean1` : The mean of group 1\n",
        "    - `std1`  : standard deviation of group 1\n",
        "    - `nobs1` : The number of observations of group 1\n",
        "    - `mean2` :The mean of group 2\n",
        "    - `std2`  : standard deviation of group 2\n",
        "    - `nobs2` : The number of observations of group 2\n",
        "    - equal_var : If `True` (default), perform a standard independent 2 sample test that assumes equal population variances. If `False`, perform t-test, which does not assume equal population variance\n",
        "    - `alternative` : {`two-sided`, `less`, `greater`}, optional depend on hypothesis alternative. In this case, we use `two-sided`"
      ],
      "metadata": {
        "id": "ONIFxqEEkC7U"
      }
    },
    {
      "cell_type": "code",
      "source": [
        "# two sample t test\n",
        "from scipy import stats\n",
        "\n",
        "result = stats.ttest_ind_from_stats(mean1 = c_mean,  # control group\n",
        "                                    std1 = c_std,\n",
        "                                    nobs1 = c_obs,\n",
        "                                    mean2 = t_mean,  # treatment group\n",
        "                                    std2 = t_std,\n",
        "                                    nobs2 = t_obs,\n",
        "                                    equal_var = True, # Assume it is equal variance\n",
        "                                    alternative = \"two-sided\")\n",
        "\n",
        "# save p-value\n",
        "pval = result[1]\n",
        "print(f\"p-value : {pval:0.3f}\")"
      ],
      "metadata": {
        "id": "AmvJg5vXkD1c",
        "colab": {
          "base_uri": "https://localhost:8080/"
        },
        "outputId": "ccc799f6-a72d-47ba-ee9e-d1d31eddf520"
      },
      "execution_count": 7,
      "outputs": [
        {
          "output_type": "stream",
          "name": "stdout",
          "text": [
            "p-value : 0.216\n"
          ]
        }
      ]
    },
    {
      "cell_type": "markdown",
      "source": [
        "- With one sampling attempt, the results obtained were p-value > 0.05 (not statistically significant).\n",
        "- It means that, A control group is the same as A treatment group.\n",
        "- However, if we **repeat the sampling experiment** many times and do the test, there will be 5% of p-value that have value less than 0.05.\n",
        "- We will do simulation of $n$ times A/A test to prove that a good A/A test will have p-value distribution uniformly."
      ],
      "metadata": {
        "id": "UPs82sFqkE7d"
      }
    },
    {
      "cell_type": "code",
      "source": [
        "# define function for returns p-value\n",
        "def AA_test(df, i):\n",
        "    m1 = df['mean1'][i]\n",
        "    m2 = df['mean2'][i]\n",
        "    s1 = df['std1'][i]\n",
        "    s2 = df['std2'][i]\n",
        "    o1 = df['obs1'][i]\n",
        "    o2 = df['obs2'][i]\n",
        "    return(stats.ttest_ind_from_stats(mean1 = m1,\n",
        "                                      std1 = s1,\n",
        "                                      nobs1 = o1,\n",
        "                                      mean2 = m2,\n",
        "                                      std2 = s2,\n",
        "                                      nobs2 = o2,\n",
        "                                      equal_var = True,\n",
        "                                      alternative = \"two-sided\")[1])"
      ],
      "metadata": {
        "id": "BX1Mqy60kG9U"
      },
      "execution_count": 9,
      "outputs": []
    },
    {
      "cell_type": "code",
      "source": [
        "# returns dataframe with p-values\n",
        "def p_values(dataset, metric, size, n_iter):\n",
        "    \"\"\"\n",
        "    This function is used to simulate A/A test with n iteration\n",
        "\n",
        "    args:\n",
        "        - dataset (pandas Dataframe)    : sample dataset from online A/A test\n",
        "        - metric (str)                  : name of column or metric that we want to simulate\n",
        "        - size (float)                  : proportion of traffict for divide sample data to group control and treatment\n",
        "        - n_iter (integer)              : number of iteration\n",
        "    return:\n",
        "        - df_results (pandas Dataframe) : output of the function that contain n p-values from t-test\n",
        "\n",
        "    \"\"\"\n",
        "    # defining variables\n",
        "    # Control group property list\n",
        "    c_mean_list = []\n",
        "    c_std_list = []\n",
        "    c_obs_list = []\n",
        "\n",
        "    # Treatment group property list\n",
        "    t_mean_list = []\n",
        "    t_std_list = []\n",
        "    t_obs_list = []\n",
        "\n",
        "    # loop for each n iteration\n",
        "    for _ in range(n_iter):\n",
        "        np.random.seed(_)\n",
        "\n",
        "        # get control dataset\n",
        "        control_data = dataset.sample(frac= size,\n",
        "                                      replace = False)\n",
        "\n",
        "        # get statistics of control data\n",
        "        c_mean = control_data[metric].mean()\n",
        "        c_std  = control_data[metric].std()\n",
        "        c_obs  = len(control_data)\n",
        "\n",
        "        # append statistics of control data\n",
        "        c_mean_list.append(c_mean)\n",
        "        c_std_list.append(c_std)\n",
        "        c_obs_list.append(c_obs)\n",
        "\n",
        "        # get treatment dataset\n",
        "        # 1. Find the index of control data\n",
        "        index_control = control_data.index\n",
        "\n",
        "        # 2. Find treatment data\n",
        "        # Treatment = Total - Control\n",
        "        treatment_data = data.drop(index = index_control)\n",
        "\n",
        "        # get statistics for treatment data\n",
        "        t_mean = treatment_data[metric].mean()\n",
        "        t_std  = treatment_data[metric].std()\n",
        "        t_obs  = len(treatment_data)\n",
        "\n",
        "        # append statistics of treatment data\n",
        "        t_mean_list.append(t_mean)\n",
        "        t_std_list.append(t_std)\n",
        "        t_obs_list.append(t_obs)\n",
        "\n",
        "    df_means = pd.DataFrame({'mean1':c_mean_list,\n",
        "                             'mean2':t_mean_list,\n",
        "                             'std1': c_std_list,\n",
        "                             'std2': t_std_list,\n",
        "                             'obs1': c_obs_list,\n",
        "                             'obs2': t_obs_list})\n",
        "\n",
        "    p_value_list = []\n",
        "\n",
        "    # Calculate AA test p-value\n",
        "    for i in range(n_iter):\n",
        "        # Find the AA_test pvalue\n",
        "        p_value_i = AA_test(df = df_means,\n",
        "                            i = i)\n",
        "\n",
        "        # Append AA_test pvalue\n",
        "        p_value_list.append(p_value_i)\n",
        "\n",
        "    # Convert p_value_list to dataframe\n",
        "    df_results = pd.DataFrame(data = p_value_list,\n",
        "                              columns = [f\"{metric}_p_values\"])\n",
        "\n",
        "\n",
        "    return df_results\n"
      ],
      "metadata": {
        "id": "fJc3lPfnkH5m"
      },
      "execution_count": 10,
      "outputs": []
    },
    {
      "cell_type": "code",
      "source": [
        "#simulate 200 times\n",
        "df_results = p_values(dataset = data,\n",
        "                      metric = 'hours_watched',\n",
        "                      size = 0.5,\n",
        "                      n_iter = 200)\n",
        "df_results.head()"
      ],
      "metadata": {
        "id": "aKJ_1Tx2kJis",
        "colab": {
          "base_uri": "https://localhost:8080/",
          "height": 206
        },
        "outputId": "7fa3b056-0020-4799-a6db-c58ac422a8e4"
      },
      "execution_count": 11,
      "outputs": [
        {
          "output_type": "execute_result",
          "data": {
            "text/plain": [
              "   hours_watched_p_values\n",
              "0                0.274972\n",
              "1                0.565491\n",
              "2                0.257928\n",
              "3                0.765842\n",
              "4                0.459018"
            ],
            "text/html": [
              "\n",
              "  <div id=\"df-56c6405b-a852-4a4f-93ca-0a8930aa61e3\" class=\"colab-df-container\">\n",
              "    <div>\n",
              "<style scoped>\n",
              "    .dataframe tbody tr th:only-of-type {\n",
              "        vertical-align: middle;\n",
              "    }\n",
              "\n",
              "    .dataframe tbody tr th {\n",
              "        vertical-align: top;\n",
              "    }\n",
              "\n",
              "    .dataframe thead th {\n",
              "        text-align: right;\n",
              "    }\n",
              "</style>\n",
              "<table border=\"1\" class=\"dataframe\">\n",
              "  <thead>\n",
              "    <tr style=\"text-align: right;\">\n",
              "      <th></th>\n",
              "      <th>hours_watched_p_values</th>\n",
              "    </tr>\n",
              "  </thead>\n",
              "  <tbody>\n",
              "    <tr>\n",
              "      <th>0</th>\n",
              "      <td>0.274972</td>\n",
              "    </tr>\n",
              "    <tr>\n",
              "      <th>1</th>\n",
              "      <td>0.565491</td>\n",
              "    </tr>\n",
              "    <tr>\n",
              "      <th>2</th>\n",
              "      <td>0.257928</td>\n",
              "    </tr>\n",
              "    <tr>\n",
              "      <th>3</th>\n",
              "      <td>0.765842</td>\n",
              "    </tr>\n",
              "    <tr>\n",
              "      <th>4</th>\n",
              "      <td>0.459018</td>\n",
              "    </tr>\n",
              "  </tbody>\n",
              "</table>\n",
              "</div>\n",
              "    <div class=\"colab-df-buttons\">\n",
              "\n",
              "  <div class=\"colab-df-container\">\n",
              "    <button class=\"colab-df-convert\" onclick=\"convertToInteractive('df-56c6405b-a852-4a4f-93ca-0a8930aa61e3')\"\n",
              "            title=\"Convert this dataframe to an interactive table.\"\n",
              "            style=\"display:none;\">\n",
              "\n",
              "  <svg xmlns=\"http://www.w3.org/2000/svg\" height=\"24px\" viewBox=\"0 -960 960 960\">\n",
              "    <path d=\"M120-120v-720h720v720H120Zm60-500h600v-160H180v160Zm220 220h160v-160H400v160Zm0 220h160v-160H400v160ZM180-400h160v-160H180v160Zm440 0h160v-160H620v160ZM180-180h160v-160H180v160Zm440 0h160v-160H620v160Z\"/>\n",
              "  </svg>\n",
              "    </button>\n",
              "\n",
              "  <style>\n",
              "    .colab-df-container {\n",
              "      display:flex;\n",
              "      gap: 12px;\n",
              "    }\n",
              "\n",
              "    .colab-df-convert {\n",
              "      background-color: #E8F0FE;\n",
              "      border: none;\n",
              "      border-radius: 50%;\n",
              "      cursor: pointer;\n",
              "      display: none;\n",
              "      fill: #1967D2;\n",
              "      height: 32px;\n",
              "      padding: 0 0 0 0;\n",
              "      width: 32px;\n",
              "    }\n",
              "\n",
              "    .colab-df-convert:hover {\n",
              "      background-color: #E2EBFA;\n",
              "      box-shadow: 0px 1px 2px rgba(60, 64, 67, 0.3), 0px 1px 3px 1px rgba(60, 64, 67, 0.15);\n",
              "      fill: #174EA6;\n",
              "    }\n",
              "\n",
              "    .colab-df-buttons div {\n",
              "      margin-bottom: 4px;\n",
              "    }\n",
              "\n",
              "    [theme=dark] .colab-df-convert {\n",
              "      background-color: #3B4455;\n",
              "      fill: #D2E3FC;\n",
              "    }\n",
              "\n",
              "    [theme=dark] .colab-df-convert:hover {\n",
              "      background-color: #434B5C;\n",
              "      box-shadow: 0px 1px 3px 1px rgba(0, 0, 0, 0.15);\n",
              "      filter: drop-shadow(0px 1px 2px rgba(0, 0, 0, 0.3));\n",
              "      fill: #FFFFFF;\n",
              "    }\n",
              "  </style>\n",
              "\n",
              "    <script>\n",
              "      const buttonEl =\n",
              "        document.querySelector('#df-56c6405b-a852-4a4f-93ca-0a8930aa61e3 button.colab-df-convert');\n",
              "      buttonEl.style.display =\n",
              "        google.colab.kernel.accessAllowed ? 'block' : 'none';\n",
              "\n",
              "      async function convertToInteractive(key) {\n",
              "        const element = document.querySelector('#df-56c6405b-a852-4a4f-93ca-0a8930aa61e3');\n",
              "        const dataTable =\n",
              "          await google.colab.kernel.invokeFunction('convertToInteractive',\n",
              "                                                    [key], {});\n",
              "        if (!dataTable) return;\n",
              "\n",
              "        const docLinkHtml = 'Like what you see? Visit the ' +\n",
              "          '<a target=\"_blank\" href=https://colab.research.google.com/notebooks/data_table.ipynb>data table notebook</a>'\n",
              "          + ' to learn more about interactive tables.';\n",
              "        element.innerHTML = '';\n",
              "        dataTable['output_type'] = 'display_data';\n",
              "        await google.colab.output.renderOutput(dataTable, element);\n",
              "        const docLink = document.createElement('div');\n",
              "        docLink.innerHTML = docLinkHtml;\n",
              "        element.appendChild(docLink);\n",
              "      }\n",
              "    </script>\n",
              "  </div>\n",
              "\n",
              "\n",
              "    <div id=\"df-85fa850d-d36e-46e5-93d9-c675f5080cad\">\n",
              "      <button class=\"colab-df-quickchart\" onclick=\"quickchart('df-85fa850d-d36e-46e5-93d9-c675f5080cad')\"\n",
              "                title=\"Suggest charts\"\n",
              "                style=\"display:none;\">\n",
              "\n",
              "<svg xmlns=\"http://www.w3.org/2000/svg\" height=\"24px\"viewBox=\"0 0 24 24\"\n",
              "     width=\"24px\">\n",
              "    <g>\n",
              "        <path d=\"M19 3H5c-1.1 0-2 .9-2 2v14c0 1.1.9 2 2 2h14c1.1 0 2-.9 2-2V5c0-1.1-.9-2-2-2zM9 17H7v-7h2v7zm4 0h-2V7h2v10zm4 0h-2v-4h2v4z\"/>\n",
              "    </g>\n",
              "</svg>\n",
              "      </button>\n",
              "\n",
              "<style>\n",
              "  .colab-df-quickchart {\n",
              "      --bg-color: #E8F0FE;\n",
              "      --fill-color: #1967D2;\n",
              "      --hover-bg-color: #E2EBFA;\n",
              "      --hover-fill-color: #174EA6;\n",
              "      --disabled-fill-color: #AAA;\n",
              "      --disabled-bg-color: #DDD;\n",
              "  }\n",
              "\n",
              "  [theme=dark] .colab-df-quickchart {\n",
              "      --bg-color: #3B4455;\n",
              "      --fill-color: #D2E3FC;\n",
              "      --hover-bg-color: #434B5C;\n",
              "      --hover-fill-color: #FFFFFF;\n",
              "      --disabled-bg-color: #3B4455;\n",
              "      --disabled-fill-color: #666;\n",
              "  }\n",
              "\n",
              "  .colab-df-quickchart {\n",
              "    background-color: var(--bg-color);\n",
              "    border: none;\n",
              "    border-radius: 50%;\n",
              "    cursor: pointer;\n",
              "    display: none;\n",
              "    fill: var(--fill-color);\n",
              "    height: 32px;\n",
              "    padding: 0;\n",
              "    width: 32px;\n",
              "  }\n",
              "\n",
              "  .colab-df-quickchart:hover {\n",
              "    background-color: var(--hover-bg-color);\n",
              "    box-shadow: 0 1px 2px rgba(60, 64, 67, 0.3), 0 1px 3px 1px rgba(60, 64, 67, 0.15);\n",
              "    fill: var(--button-hover-fill-color);\n",
              "  }\n",
              "\n",
              "  .colab-df-quickchart-complete:disabled,\n",
              "  .colab-df-quickchart-complete:disabled:hover {\n",
              "    background-color: var(--disabled-bg-color);\n",
              "    fill: var(--disabled-fill-color);\n",
              "    box-shadow: none;\n",
              "  }\n",
              "\n",
              "  .colab-df-spinner {\n",
              "    border: 2px solid var(--fill-color);\n",
              "    border-color: transparent;\n",
              "    border-bottom-color: var(--fill-color);\n",
              "    animation:\n",
              "      spin 1s steps(1) infinite;\n",
              "  }\n",
              "\n",
              "  @keyframes spin {\n",
              "    0% {\n",
              "      border-color: transparent;\n",
              "      border-bottom-color: var(--fill-color);\n",
              "      border-left-color: var(--fill-color);\n",
              "    }\n",
              "    20% {\n",
              "      border-color: transparent;\n",
              "      border-left-color: var(--fill-color);\n",
              "      border-top-color: var(--fill-color);\n",
              "    }\n",
              "    30% {\n",
              "      border-color: transparent;\n",
              "      border-left-color: var(--fill-color);\n",
              "      border-top-color: var(--fill-color);\n",
              "      border-right-color: var(--fill-color);\n",
              "    }\n",
              "    40% {\n",
              "      border-color: transparent;\n",
              "      border-right-color: var(--fill-color);\n",
              "      border-top-color: var(--fill-color);\n",
              "    }\n",
              "    60% {\n",
              "      border-color: transparent;\n",
              "      border-right-color: var(--fill-color);\n",
              "    }\n",
              "    80% {\n",
              "      border-color: transparent;\n",
              "      border-right-color: var(--fill-color);\n",
              "      border-bottom-color: var(--fill-color);\n",
              "    }\n",
              "    90% {\n",
              "      border-color: transparent;\n",
              "      border-bottom-color: var(--fill-color);\n",
              "    }\n",
              "  }\n",
              "</style>\n",
              "\n",
              "      <script>\n",
              "        async function quickchart(key) {\n",
              "          const quickchartButtonEl =\n",
              "            document.querySelector('#' + key + ' button');\n",
              "          quickchartButtonEl.disabled = true;  // To prevent multiple clicks.\n",
              "          quickchartButtonEl.classList.add('colab-df-spinner');\n",
              "          try {\n",
              "            const charts = await google.colab.kernel.invokeFunction(\n",
              "                'suggestCharts', [key], {});\n",
              "          } catch (error) {\n",
              "            console.error('Error during call to suggestCharts:', error);\n",
              "          }\n",
              "          quickchartButtonEl.classList.remove('colab-df-spinner');\n",
              "          quickchartButtonEl.classList.add('colab-df-quickchart-complete');\n",
              "        }\n",
              "        (() => {\n",
              "          let quickchartButtonEl =\n",
              "            document.querySelector('#df-85fa850d-d36e-46e5-93d9-c675f5080cad button');\n",
              "          quickchartButtonEl.style.display =\n",
              "            google.colab.kernel.accessAllowed ? 'block' : 'none';\n",
              "        })();\n",
              "      </script>\n",
              "    </div>\n",
              "\n",
              "    </div>\n",
              "  </div>\n"
            ],
            "application/vnd.google.colaboratory.intrinsic+json": {
              "type": "dataframe",
              "variable_name": "df_results",
              "summary": "{\n  \"name\": \"df_results\",\n  \"rows\": 200,\n  \"fields\": [\n    {\n      \"column\": \"hours_watched_p_values\",\n      \"properties\": {\n        \"dtype\": \"number\",\n        \"std\": 0.290002183180464,\n        \"min\": 0.006009779523977513,\n        \"max\": 0.9921528343683939,\n        \"num_unique_values\": 200,\n        \"samples\": [\n          0.02114051836779326,\n          0.0696676314528616,\n          0.8281667052410806\n        ],\n        \"semantic_type\": \"\",\n        \"description\": \"\"\n      }\n    }\n  ]\n}"
            }
          },
          "metadata": {},
          "execution_count": 11
        }
      ]
    },
    {
      "cell_type": "code",
      "source": [
        "# Create a figure\n",
        "fig, ax = plt.subplots(nrows=1,\n",
        "                       ncols=1,\n",
        "                       figsize=(10, 7))\n",
        "\n",
        "# visualzation p-value in histogram\n",
        "ax = sns.histplot(df_results['hours_watched_p_values'],\n",
        "                  bins=20,\n",
        "                  kde=False)\n",
        "\n",
        "# add plot title and axis labels\n",
        "ax.set_xlabel('P-value',\n",
        "              fontsize = 16)\n",
        "ax.set_ylabel('Frequency',\n",
        "              fontsize = 16)\n",
        "\n",
        "# display plot\n",
        "plt.show()"
      ],
      "metadata": {
        "id": "e5MKMUXdkKh1",
        "colab": {
          "base_uri": "https://localhost:8080/",
          "height": 625
        },
        "outputId": "dc333eae-ad16-4d89-f0c2-08c9c316d6d6"
      },
      "execution_count": 12,
      "outputs": [
        {
          "output_type": "display_data",
          "data": {
            "text/plain": [
              "<Figure size 1000x700 with 1 Axes>"
            ],
            "image/png": "[encoded data removed]"
          },
          "metadata": {}
        }
      ]
    },
    {
      "cell_type": "markdown",
      "source": [
        "From histogram of n p-values :\n",
        "- Each of these t-tests on a randomly generated split generates a p-value, and we plot all the p-values in a histogram, which should exhibit a uniform distribution.\n",
        "\n",
        "- In an A/A t-test that satisfies the underlying statistical assumptions for a t-test, the resulting p-value distribution should be uniform (so, a p-value < 0.05 should occur 5% of the time)."
      ],
      "metadata": {
        "id": "4PIgTwYDkO3O"
      }
    },
    {
      "cell_type": "markdown",
      "source": [
        "- Then, we run the goodness-of-fit test for n p-values data.\n",
        "  - We can use **Kolmogorov-Smirnov test** for goodness of fit test\n",
        "  - The distribution of p-values should be **uniform**.\n",
        "\n",
        "- Hypothesis in the goodness of fit test for uniform distribution:\n",
        "\n",
        "  $H_0$ : The data follow a uniform distribution\n",
        "\n",
        "  $H_1$ : The data do not follow a uniform distribution"
      ],
      "metadata": {
        "id": "IFr_AysgkR5F"
      }
    },
    {
      "cell_type": "markdown",
      "source": [
        "We can use function `result_ks` from `scipy` library, with the following syntax :  \n",
        "\n",
        "```\n",
        "stats.kstest(rvs = ..,\n",
        "             cdf = ...)\n",
        "```\n",
        "\n",
        "Description :\n",
        "- rvs : random variables or the data we want to test\n",
        "- cdf : The name of distribution. It should be a string, and should be the name of a distribution in scipy.stats [scipy.stats](https://docs.scipy.org/doc/scipy/reference/stats.html#module-scipy.stats)\n",
        "In this case, we want to test uniform distribution. So, we can write `cdf = 'uniform'` in our syntax"
      ],
      "metadata": {
        "id": "TXI2PsCYkTBr"
      }
    },
    {
      "cell_type": "code",
      "source": [
        "# Perform kolmogorov smirnof (KS) test\n",
        "result_ks = stats.kstest(rvs = df_results['hours_watched_p_values'],\n",
        "                         cdf = 'uniform')\n",
        "\n",
        "# save p-value of KS test\n",
        "p_value = result_ks[1]\n",
        "\n",
        "#print p-value\n",
        "print(p_value)"
      ],
      "metadata": {
        "id": "ap323ZzKkT6M",
        "colab": {
          "base_uri": "https://localhost:8080/"
        },
        "outputId": "6398fe77-d500-4c8c-8180-8b40caebedc3"
      },
      "execution_count": 13,
      "outputs": [
        {
          "output_type": "stream",
          "name": "stdout",
          "text": [
            "0.8284088612555435\n"
          ]
        }
      ]
    },
    {
      "cell_type": "code",
      "source": [
        "# Make decision from kolmogorof smirnov test\n",
        "# We can compare p-value with alpha\n",
        "# if p-value > alpha, then fail to reject H0. It means that the data is uniformly distributed\n",
        "\n",
        "alpha = 0.05\n",
        "if(p_value <  alpha):\n",
        "  print(\"Decision : Reject Null Hypothesis\")\n",
        "else:\n",
        "  print(\"Decision : Fail to Reject Null Hypothesis\")"
      ],
      "metadata": {
        "id": "a4UiDJlZkUzN",
        "colab": {
          "base_uri": "https://localhost:8080/"
        },
        "outputId": "42be5a3b-9fd4-47f7-9619-758a3a9c2a78"
      },
      "execution_count": 14,
      "outputs": [
        {
          "output_type": "stream",
          "name": "stdout",
          "text": [
            "Decision : Fail to Reject Null Hypothesis\n"
          ]
        }
      ]
    },
    {
      "cell_type": "markdown",
      "source": [
        "**Conclusion**\n",
        "\n",
        "- The result of KS test is fail to reject H0. It means that the data is **uniformly distributed**\n",
        "\n",
        "- From simulation the A/A test, it can be conclude there is no problem with our design experimentation."
      ],
      "metadata": {
        "id": "Kze5EIrykXHW"
      }
    },
    {
      "cell_type": "markdown",
      "source": [
        "## Simulating Problematic A/A test with outlier"
      ],
      "metadata": {
        "id": "jVQF9zJAkZZd"
      }
    },
    {
      "cell_type": "markdown",
      "source": [
        "- Same as before, in this simulation, we will use dummy data. But, the metric contains **outliers**\n",
        "- First, we create a dummy data set of historical data.\n",
        "- The data is a 2-week A/A test experiment on channels that broadcast Mobile Legend with the metric **hours watched with outlier**.\n",
        "- We would pull a data set for the past 2-week period containing channel_id and hours watched in that period for those channels that broadcast Mobile Legend."
      ],
      "metadata": {
        "id": "L1WBVvlikaKU"
      }
    },
    {
      "cell_type": "code",
      "source": [
        "# Generate data\n",
        "np.random.seed(42)\n",
        "\n",
        "# Generate 1000 data\n",
        "n = 1000\n",
        "\n",
        "#make dataframe\n",
        "data = pd.DataFrame()\n",
        "\n",
        "#make first column of dataframe that contain channel_id\n",
        "data[\"channel_id\"] = np.random.choice(1000, n, replace = False)\n",
        "\n",
        "#make second column of dataframe that contain our metric\n",
        "data['hours_watched_outlier'] = np.random.random(1000)\n",
        "\n",
        "#add outlier in the first row\n",
        "data['hours_watched_outlier'].iloc[0] = 1000\n",
        "\n",
        "#print 5 row data\n",
        "data.head()"
      ],
      "metadata": {
        "id": "68bK-6vPkbVd",
        "colab": {
          "base_uri": "https://localhost:8080/",
          "height": 504
        },
        "outputId": "65ac4b17-ca4e-460b-fa52-5a608b0d127b"
      },
      "execution_count": 15,
      "outputs": [
        {
          "output_type": "stream",
          "name": "stderr",
          "text": [
            "<ipython-input-15-4727ac1eb891>:17: FutureWarning: ChainedAssignmentError: behaviour will change in pandas 3.0!\n",
            "You are setting values through chained assignment. Currently this works in certain cases, but when using Copy-on-Write (which will become the default behaviour in pandas 3.0) this will never work to update the original DataFrame or Series, because the intermediate object on which we are setting values will behave as a copy.\n",
            "A typical example is when you are setting values in a column of a DataFrame, like:\n",
            "\n",
            "df[\"col\"][row_indexer] = value\n",
            "\n",
            "Use `df.loc[row_indexer, \"col\"] = values` instead, to perform the assignment in a single step and ensure this keeps updating the original `df`.\n",
            "\n",
            "See the caveats in the documentation: https://pandas.pydata.org/pandas-docs/stable/user_guide/indexing.html#returning-a-view-versus-a-copy\n",
            "\n",
            "  data['hours_watched_outlier'].iloc[0] = 1000\n",
            "<ipython-input-15-4727ac1eb891>:17: SettingWithCopyWarning: \n",
            "A value is trying to be set on a copy of a slice from a DataFrame\n",
            "\n",
            "See the caveats in the documentation: https://pandas.pydata.org/pandas-docs/stable/user_guide/indexing.html#returning-a-view-versus-a-copy\n",
            "  data['hours_watched_outlier'].iloc[0] = 1000\n"
          ]
        },
        {
          "output_type": "execute_result",
          "data": {
            "text/plain": [
              "   channel_id  hours_watched_outlier\n",
              "0         521            1000.000000\n",
              "1         737               0.322354\n",
              "2         740               0.809874\n",
              "3         660               0.254641\n",
              "4         411               0.681503"
            ],
            "text/html": [
              "\n",
              "  <div id=\"df-a4250661-ab7d-43cf-b93b-2bd693122b20\" class=\"colab-df-container\">\n",
              "    <div>\n",
              "<style scoped>\n",
              "    .dataframe tbody tr th:only-of-type {\n",
              "        vertical-align: middle;\n",
              "    }\n",
              "\n",
              "    .dataframe tbody tr th {\n",
              "        vertical-align: top;\n",
              "    }\n",
              "\n",
              "    .dataframe thead th {\n",
              "        text-align: right;\n",
              "    }\n",
              "</style>\n",
              "<table border=\"1\" class=\"dataframe\">\n",
              "  <thead>\n",
              "    <tr style=\"text-align: right;\">\n",
              "      <th></th>\n",
              "      <th>channel_id</th>\n",
              "      <th>hours_watched_outlier</th>\n",
              "    </tr>\n",
              "  </thead>\n",
              "  <tbody>\n",
              "    <tr>\n",
              "      <th>0</th>\n",
              "      <td>521</td>\n",
              "      <td>1000.000000</td>\n",
              "    </tr>\n",
              "    <tr>\n",
              "      <th>1</th>\n",
              "      <td>737</td>\n",
              "      <td>0.322354</td>\n",
              "    </tr>\n",
              "    <tr>\n",
              "      <th>2</th>\n",
              "      <td>740</td>\n",
              "      <td>0.809874</td>\n",
              "    </tr>\n",
              "    <tr>\n",
              "      <th>3</th>\n",
              "      <td>660</td>\n",
              "      <td>0.254641</td>\n",
              "    </tr>\n",
              "    <tr>\n",
              "      <th>4</th>\n",
              "      <td>411</td>\n",
              "      <td>0.681503</td>\n",
              "    </tr>\n",
              "  </tbody>\n",
              "</table>\n",
              "</div>\n",
              "    <div class=\"colab-df-buttons\">\n",
              "\n",
              "  <div class=\"colab-df-container\">\n",
              "    <button class=\"colab-df-convert\" onclick=\"convertToInteractive('df-a4250661-ab7d-43cf-b93b-2bd693122b20')\"\n",
              "            title=\"Convert this dataframe to an interactive table.\"\n",
              "            style=\"display:none;\">\n",
              "\n",
              "  <svg xmlns=\"http://www.w3.org/2000/svg\" height=\"24px\" viewBox=\"0 -960 960 960\">\n",
              "    <path d=\"M120-120v-720h720v720H120Zm60-500h600v-160H180v160Zm220 220h160v-160H400v160Zm0 220h160v-160H400v160ZM180-400h160v-160H180v160Zm440 0h160v-160H620v160ZM180-180h160v-160H180v160Zm440 0h160v-160H620v160Z\"/>\n",
              "  </svg>\n",
              "    </button>\n",
              "\n",
              "  <style>\n",
              "    .colab-df-container {\n",
              "      display:flex;\n",
              "      gap: 12px;\n",
              "    }\n",
              "\n",
              "    .colab-df-convert {\n",
              "      background-color: #E8F0FE;\n",
              "      border: none;\n",
              "      border-radius: 50%;\n",
              "      cursor: pointer;\n",
              "      display: none;\n",
              "      fill: #1967D2;\n",
              "      height: 32px;\n",
              "      padding: 0 0 0 0;\n",
              "      width: 32px;\n",
              "    }\n",
              "\n",
              "    .colab-df-convert:hover {\n",
              "      background-color: #E2EBFA;\n",
              "      box-shadow: 0px 1px 2px rgba(60, 64, 67, 0.3), 0px 1px 3px 1px rgba(60, 64, 67, 0.15);\n",
              "      fill: #174EA6;\n",
              "    }\n",
              "\n",
              "    .colab-df-buttons div {\n",
              "      margin-bottom: 4px;\n",
              "    }\n",
              "\n",
              "    [theme=dark] .colab-df-convert {\n",
              "      background-color: #3B4455;\n",
              "      fill: #D2E3FC;\n",
              "    }\n",
              "\n",
              "    [theme=dark] .colab-df-convert:hover {\n",
              "      background-color: #434B5C;\n",
              "      box-shadow: 0px 1px 3px 1px rgba(0, 0, 0, 0.15);\n",
              "      filter: drop-shadow(0px 1px 2px rgba(0, 0, 0, 0.3));\n",
              "      fill: #FFFFFF;\n",
              "    }\n",
              "  </style>\n",
              "\n",
              "    <script>\n",
              "      const buttonEl =\n",
              "        document.querySelector('#df-a4250661-ab7d-43cf-b93b-2bd693122b20 button.colab-df-convert');\n",
              "      buttonEl.style.display =\n",
              "        google.colab.kernel.accessAllowed ? 'block' : 'none';\n",
              "\n",
              "      async function convertToInteractive(key) {\n",
              "        const element = document.querySelector('#df-a4250661-ab7d-43cf-b93b-2bd693122b20');\n",
              "        const dataTable =\n",
              "          await google.colab.kernel.invokeFunction('convertToInteractive',\n",
              "                                                    [key], {});\n",
              "        if (!dataTable) return;\n",
              "\n",
              "        const docLinkHtml = 'Like what you see? Visit the ' +\n",
              "          '<a target=\"_blank\" href=https://colab.research.google.com/notebooks/data_table.ipynb>data table notebook</a>'\n",
              "          + ' to learn more about interactive tables.';\n",
              "        element.innerHTML = '';\n",
              "        dataTable['output_type'] = 'display_data';\n",
              "        await google.colab.output.renderOutput(dataTable, element);\n",
              "        const docLink = document.createElement('div');\n",
              "        docLink.innerHTML = docLinkHtml;\n",
              "        element.appendChild(docLink);\n",
              "      }\n",
              "    </script>\n",
              "  </div>\n",
              "\n",
              "\n",
              "    <div id=\"df-16db7283-75c5-4707-8b8e-cc1c2434158c\">\n",
              "      <button class=\"colab-df-quickchart\" onclick=\"quickchart('df-16db7283-75c5-4707-8b8e-cc1c2434158c')\"\n",
              "                title=\"Suggest charts\"\n",
              "                style=\"display:none;\">\n",
              "\n",
              "<svg xmlns=\"http://www.w3.org/2000/svg\" height=\"24px\"viewBox=\"0 0 24 24\"\n",
              "     width=\"24px\">\n",
              "    <g>\n",
              "        <path d=\"M19 3H5c-1.1 0-2 .9-2 2v14c0 1.1.9 2 2 2h14c1.1 0 2-.9 2-2V5c0-1.1-.9-2-2-2zM9 17H7v-7h2v7zm4 0h-2V7h2v10zm4 0h-2v-4h2v4z\"/>\n",
              "    </g>\n",
              "</svg>\n",
              "      </button>\n",
              "\n",
              "<style>\n",
              "  .colab-df-quickchart {\n",
              "      --bg-color: #E8F0FE;\n",
              "      --fill-color: #1967D2;\n",
              "      --hover-bg-color: #E2EBFA;\n",
              "      --hover-fill-color: #174EA6;\n",
              "      --disabled-fill-color: #AAA;\n",
              "      --disabled-bg-color: #DDD;\n",
              "  }\n",
              "\n",
              "  [theme=dark] .colab-df-quickchart {\n",
              "      --bg-color: #3B4455;\n",
              "      --fill-color: #D2E3FC;\n",
              "      --hover-bg-color: #434B5C;\n",
              "      --hover-fill-color: #FFFFFF;\n",
              "      --disabled-bg-color: #3B4455;\n",
              "      --disabled-fill-color: #666;\n",
              "  }\n",
              "\n",
              "  .colab-df-quickchart {\n",
              "    background-color: var(--bg-color);\n",
              "    border: none;\n",
              "    border-radius: 50%;\n",
              "    cursor: pointer;\n",
              "    display: none;\n",
              "    fill: var(--fill-color);\n",
              "    height: 32px;\n",
              "    padding: 0;\n",
              "    width: 32px;\n",
              "  }\n",
              "\n",
              "  .colab-df-quickchart:hover {\n",
              "    background-color: var(--hover-bg-color);\n",
              "    box-shadow: 0 1px 2px rgba(60, 64, 67, 0.3), 0 1px 3px 1px rgba(60, 64, 67, 0.15);\n",
              "    fill: var(--button-hover-fill-color);\n",
              "  }\n",
              "\n",
              "  .colab-df-quickchart-complete:disabled,\n",
              "  .colab-df-quickchart-complete:disabled:hover {\n",
              "    background-color: var(--disabled-bg-color);\n",
              "    fill: var(--disabled-fill-color);\n",
              "    box-shadow: none;\n",
              "  }\n",
              "\n",
              "  .colab-df-spinner {\n",
              "    border: 2px solid var(--fill-color);\n",
              "    border-color: transparent;\n",
              "    border-bottom-color: var(--fill-color);\n",
              "    animation:\n",
              "      spin 1s steps(1) infinite;\n",
              "  }\n",
              "\n",
              "  @keyframes spin {\n",
              "    0% {\n",
              "      border-color: transparent;\n",
              "      border-bottom-color: var(--fill-color);\n",
              "      border-left-color: var(--fill-color);\n",
              "    }\n",
              "    20% {\n",
              "      border-color: transparent;\n",
              "      border-left-color: var(--fill-color);\n",
              "      border-top-color: var(--fill-color);\n",
              "    }\n",
              "    30% {\n",
              "      border-color: transparent;\n",
              "      border-left-color: var(--fill-color);\n",
              "      border-top-color: var(--fill-color);\n",
              "      border-right-color: var(--fill-color);\n",
              "    }\n",
              "    40% {\n",
              "      border-color: transparent;\n",
              "      border-right-color: var(--fill-color);\n",
              "      border-top-color: var(--fill-color);\n",
              "    }\n",
              "    60% {\n",
              "      border-color: transparent;\n",
              "      border-right-color: var(--fill-color);\n",
              "    }\n",
              "    80% {\n",
              "      border-color: transparent;\n",
              "      border-right-color: var(--fill-color);\n",
              "      border-bottom-color: var(--fill-color);\n",
              "    }\n",
              "    90% {\n",
              "      border-color: transparent;\n",
              "      border-bottom-color: var(--fill-color);\n",
              "    }\n",
              "  }\n",
              "</style>\n",
              "\n",
              "      <script>\n",
              "        async function quickchart(key) {\n",
              "          const quickchartButtonEl =\n",
              "            document.querySelector('#' + key + ' button');\n",
              "          quickchartButtonEl.disabled = true;  // To prevent multiple clicks.\n",
              "          quickchartButtonEl.classList.add('colab-df-spinner');\n",
              "          try {\n",
              "            const charts = await google.colab.kernel.invokeFunction(\n",
              "                'suggestCharts', [key], {});\n",
              "          } catch (error) {\n",
              "            console.error('Error during call to suggestCharts:', error);\n",
              "          }\n",
              "          quickchartButtonEl.classList.remove('colab-df-spinner');\n",
              "          quickchartButtonEl.classList.add('colab-df-quickchart-complete');\n",
              "        }\n",
              "        (() => {\n",
              "          let quickchartButtonEl =\n",
              "            document.querySelector('#df-16db7283-75c5-4707-8b8e-cc1c2434158c button');\n",
              "          quickchartButtonEl.style.display =\n",
              "            google.colab.kernel.accessAllowed ? 'block' : 'none';\n",
              "        })();\n",
              "      </script>\n",
              "    </div>\n",
              "\n",
              "    </div>\n",
              "  </div>\n"
            ],
            "application/vnd.google.colaboratory.intrinsic+json": {
              "type": "dataframe",
              "variable_name": "data",
              "summary": "{\n  \"name\": \"data\",\n  \"rows\": 1000,\n  \"fields\": [\n    {\n      \"column\": \"channel_id\",\n      \"properties\": {\n        \"dtype\": \"number\",\n        \"std\": 288,\n        \"min\": 0,\n        \"max\": 999,\n        \"num_unique_values\": 1000,\n        \"samples\": [\n          666,\n          129,\n          784\n        ],\n        \"semantic_type\": \"\",\n        \"description\": \"\"\n      }\n    },\n    {\n      \"column\": \"hours_watched_outlier\",\n      \"properties\": {\n        \"dtype\": \"number\",\n        \"std\": 31.60814409472572,\n        \"min\": 0.004632023004602859,\n        \"max\": 1000.0,\n        \"num_unique_values\": 1000,\n        \"samples\": [\n          0.3975943979627943,\n          0.6726021182251263,\n          0.1771497894473859\n        ],\n        \"semantic_type\": \"\",\n        \"description\": \"\"\n      }\n    }\n  ]\n}"
            }
          },
          "metadata": {},
          "execution_count": 15
        }
      ]
    },
    {
      "cell_type": "code",
      "source": [
        "# overview about data\n",
        "data.info()"
      ],
      "metadata": {
        "id": "-dkRRDf_kcjF",
        "colab": {
          "base_uri": "https://localhost:8080/"
        },
        "outputId": "41971af2-a53a-41b3-f86f-f1b0e47677a4"
      },
      "execution_count": 16,
      "outputs": [
        {
          "output_type": "stream",
          "name": "stdout",
          "text": [
            "<class 'pandas.core.frame.DataFrame'>\n",
            "RangeIndex: 1000 entries, 0 to 999\n",
            "Data columns (total 2 columns):\n",
            " #   Column                 Non-Null Count  Dtype  \n",
            "---  ------                 --------------  -----  \n",
            " 0   channel_id             1000 non-null   int64  \n",
            " 1   hours_watched_outlier  1000 non-null   float64\n",
            "dtypes: float64(1), int64(1)\n",
            "memory usage: 15.8 KB\n"
          ]
        }
      ]
    },
    {
      "cell_type": "code",
      "source": [
        "fig, ax = plt.subplots(nrows=1,\n",
        "                       ncols=1,\n",
        "                       figsize=(10, 7))\n",
        "\n",
        "sns.histplot( data['hours_watched_outlier'], bins=20, kde=False)\n",
        "\n",
        "plt.show()"
      ],
      "metadata": {
        "id": "gy-zQz61kd1s",
        "colab": {
          "base_uri": "https://localhost:8080/",
          "height": 619
        },
        "outputId": "d7a628b9-7d04-48b2-f0f6-c3c8d9865ca4"
      },
      "execution_count": 17,
      "outputs": [
        {
          "output_type": "display_data",
          "data": {
            "text/plain": [
              "<Figure size 1000x700 with 1 Axes>"
            ],
            "image/png": "[encoded data removed]"
          },
          "metadata": {}
        }
      ]
    },
    {
      "cell_type": "markdown",
      "source": [],
      "metadata": {
        "id": "SS5oHW5Mkn9V"
      }
    },
    {
      "cell_type": "markdown",
      "source": [
        "- Once the data set is created, the second step is to generate the $n$ distribution of p-values from simulated A/A tests.\n",
        "- This is where we randomly divide the data into treatments or controls group for $n$ iterations\n",
        "- Then, we calculate the average in each group for $n$ iterations\n",
        "- After that, run the t-test on each split of $n$ iteration with the following hypothesis:\n",
        "\n",
        "$$H_{0} : \\mu_{\\text{A}_{\\text{control}}} = \\mu_{\\text{A}_{\\text{treatment}}}$$\n",
        "$$H_{1} : \\mu_{\\text{A}_{\\text{control}}} \\neq \\mu_{\\text{A}_{\\text{treatment}}}$$\n",
        "\n"
      ],
      "metadata": {
        "id": "tGmhv0mkkfHt"
      }
    },
    {
      "cell_type": "markdown",
      "source": [
        "- To randomly sampling data into two group, it can be done with the syntax:\n",
        "\n",
        "```python\n",
        "data.sample(n = ...,\n",
        "            replace =...)\n",
        "```\n",
        "- Descriptions\n",
        "\n",
        "  - `n` : how many sample size. In this case we want to divide equally for two group, or 50:50.\n",
        "\n",
        "  - `replace` : `True` for sampling with replacement or `False` for sampling without replacement"
      ],
      "metadata": {
        "id": "rXDKX8y3kgSu"
      }
    },
    {
      "cell_type": "code",
      "source": [
        "np.random.seed(1234)\n",
        "\n",
        "# get control dataset\n",
        "# Assign 50% of total data to control group\n",
        "control_data = data.sample(frac= 0.5,\n",
        "                           replace = False)\n",
        "\n",
        "# get statistics for the control data\n",
        "c_mean = control_data['hours_watched_outlier'].mean()   #mean\n",
        "c_std  = control_data['hours_watched_outlier'].std()    #standar deviation\n",
        "c_obs  = len(control_data)                      #number of observation\n",
        "\n",
        "#print statistics of control data\n",
        "print(\"A control\")\n",
        "print(f\"mean                  : {c_mean:0.3f}\")\n",
        "print(f\"standar deviation     : {c_std:0.3f}\")\n",
        "print(f\"number of observation : {c_obs}\")"
      ],
      "metadata": {
        "id": "SaF9UxTIkpke",
        "colab": {
          "base_uri": "https://localhost:8080/"
        },
        "outputId": "4eb5d6b6-f03a-4026-d923-4221c49b57ef"
      },
      "execution_count": 18,
      "outputs": [
        {
          "output_type": "stream",
          "name": "stdout",
          "text": [
            "A control\n",
            "mean                  : 0.517\n",
            "standar deviation     : 0.290\n",
            "number of observation : 500\n"
          ]
        }
      ]
    },
    {
      "cell_type": "code",
      "source": [
        "# get treatment dataset\n",
        "# treatment dataset is the remaining data that has not been assigned to control\n",
        "# 1. Find the index of control data\n",
        "index_control = control_data.index\n",
        "\n",
        "# 2. Find treatment data\n",
        "# Treatment = Total - Control\n",
        "treatment_data = data.drop(index = index_control)\n",
        "\n",
        "# get statistics for the treatment data\n",
        "t_mean = treatment_data['hours_watched_outlier'].mean()  #mean\n",
        "t_std  = treatment_data['hours_watched_outlier'].std()   #standar deviation\n",
        "t_obs  = len(treatment_data)                             #number of observation\n",
        "\n",
        "#print statistics of treatment data\n",
        "print(\"A treatment\")\n",
        "print(f\"mean                  : {t_mean:0.3f}\")\n",
        "print(f\"standar deviation     : {t_std:0.3f}\")\n",
        "print(f\"number of observation : {t_obs}\")"
      ],
      "metadata": {
        "id": "DPvdPQcqkq5c",
        "colab": {
          "base_uri": "https://localhost:8080/"
        },
        "outputId": "073902d0-8521-482e-d949-2b4f9688192e"
      },
      "execution_count": 19,
      "outputs": [
        {
          "output_type": "stream",
          "name": "stdout",
          "text": [
            "A treatment\n",
            "mean                  : 2.492\n",
            "standar deviation     : 44.700\n",
            "number of observation : 500\n"
          ]
        }
      ]
    },
    {
      "cell_type": "code",
      "source": [
        "# two sample t test\n",
        "from scipy import stats\n",
        "\n",
        "result = stats.ttest_ind_from_stats(mean1 = c_mean,  # control group\n",
        "                                    std1 = c_std,\n",
        "                                    nobs1 = c_obs,\n",
        "                                    mean2 = t_mean,  # treatment group\n",
        "                                    std2 = t_std,\n",
        "                                    nobs2 = t_obs,\n",
        "                                    equal_var = True, # Assume equal variance\n",
        "                                    alternative = \"two-sided\")\n",
        "\n",
        "# save p-value\n",
        "pval = result[1]\n",
        "print(f\"p-value : {pval:0.3f}\")"
      ],
      "metadata": {
        "id": "yRLhxg6LksAl",
        "colab": {
          "base_uri": "https://localhost:8080/"
        },
        "outputId": "2cb09f97-ab9b-4e1c-b47b-be17a71f349c"
      },
      "execution_count": 20,
      "outputs": [
        {
          "output_type": "stream",
          "name": "stdout",
          "text": [
            "p-value : 0.323\n"
          ]
        }
      ]
    },
    {
      "cell_type": "code",
      "source": [
        "#simulate 200 times\n",
        "df_results = p_values(dataset = data,\n",
        "                      metric = 'hours_watched_outlier',\n",
        "                      size = 0.5,\n",
        "                      n_iter = 200)\n",
        "df_results.head()"
      ],
      "metadata": {
        "id": "0KixHj4Yks59",
        "colab": {
          "base_uri": "https://localhost:8080/",
          "height": 206
        },
        "outputId": "dece8903-49b2-4f39-ce28-cec372eedba3"
      },
      "execution_count": 21,
      "outputs": [
        {
          "output_type": "execute_result",
          "data": {
            "text/plain": [
              "   hours_watched_outlier_p_values\n",
              "0                        0.312958\n",
              "1                        0.315248\n",
              "2                        0.322886\n",
              "3                        0.316480\n",
              "4                        0.321126"
            ],
            "text/html": [
              "\n",
              "  <div id=\"df-8bb42f46-4602-40aa-bce3-91afd1dff110\" class=\"colab-df-container\">\n",
              "    <div>\n",
              "<style scoped>\n",
              "    .dataframe tbody tr th:only-of-type {\n",
              "        vertical-align: middle;\n",
              "    }\n",
              "\n",
              "    .dataframe tbody tr th {\n",
              "        vertical-align: top;\n",
              "    }\n",
              "\n",
              "    .dataframe thead th {\n",
              "        text-align: right;\n",
              "    }\n",
              "</style>\n",
              "<table border=\"1\" class=\"dataframe\">\n",
              "  <thead>\n",
              "    <tr style=\"text-align: right;\">\n",
              "      <th></th>\n",
              "      <th>hours_watched_outlier_p_values</th>\n",
              "    </tr>\n",
              "  </thead>\n",
              "  <tbody>\n",
              "    <tr>\n",
              "      <th>0</th>\n",
              "      <td>0.312958</td>\n",
              "    </tr>\n",
              "    <tr>\n",
              "      <th>1</th>\n",
              "      <td>0.315248</td>\n",
              "    </tr>\n",
              "    <tr>\n",
              "      <th>2</th>\n",
              "      <td>0.322886</td>\n",
              "    </tr>\n",
              "    <tr>\n",
              "      <th>3</th>\n",
              "      <td>0.316480</td>\n",
              "    </tr>\n",
              "    <tr>\n",
              "      <th>4</th>\n",
              "      <td>0.321126</td>\n",
              "    </tr>\n",
              "  </tbody>\n",
              "</table>\n",
              "</div>\n",
              "    <div class=\"colab-df-buttons\">\n",
              "\n",
              "  <div class=\"colab-df-container\">\n",
              "    <button class=\"colab-df-convert\" onclick=\"convertToInteractive('df-8bb42f46-4602-40aa-bce3-91afd1dff110')\"\n",
              "            title=\"Convert this dataframe to an interactive table.\"\n",
              "            style=\"display:none;\">\n",
              "\n",
              "  <svg xmlns=\"http://www.w3.org/2000/svg\" height=\"24px\" viewBox=\"0 -960 960 960\">\n",
              "    <path d=\"M120-120v-720h720v720H120Zm60-500h600v-160H180v160Zm220 220h160v-160H400v160Zm0 220h160v-160H400v160ZM180-400h160v-160H180v160Zm440 0h160v-160H620v160ZM180-180h160v-160H180v160Zm440 0h160v-160H620v160Z\"/>\n",
              "  </svg>\n",
              "    </button>\n",
              "\n",
              "  <style>\n",
              "    .colab-df-container {\n",
              "      display:flex;\n",
              "      gap: 12px;\n",
              "    }\n",
              "\n",
              "    .colab-df-convert {\n",
              "      background-color: #E8F0FE;\n",
              "      border: none;\n",
              "      border-radius: 50%;\n",
              "      cursor: pointer;\n",
              "      display: none;\n",
              "      fill: #1967D2;\n",
              "      height: 32px;\n",
              "      padding: 0 0 0 0;\n",
              "      width: 32px;\n",
              "    }\n",
              "\n",
              "    .colab-df-convert:hover {\n",
              "      background-color: #E2EBFA;\n",
              "      box-shadow: 0px 1px 2px rgba(60, 64, 67, 0.3), 0px 1px 3px 1px rgba(60, 64, 67, 0.15);\n",
              "      fill: #174EA6;\n",
              "    }\n",
              "\n",
              "    .colab-df-buttons div {\n",
              "      margin-bottom: 4px;\n",
              "    }\n",
              "\n",
              "    [theme=dark] .colab-df-convert {\n",
              "      background-color: #3B4455;\n",
              "      fill: #D2E3FC;\n",
              "    }\n",
              "\n",
              "    [theme=dark] .colab-df-convert:hover {\n",
              "      background-color: #434B5C;\n",
              "      box-shadow: 0px 1px 3px 1px rgba(0, 0, 0, 0.15);\n",
              "      filter: drop-shadow(0px 1px 2px rgba(0, 0, 0, 0.3));\n",
              "      fill: #FFFFFF;\n",
              "    }\n",
              "  </style>\n",
              "\n",
              "    <script>\n",
              "      const buttonEl =\n",
              "        document.querySelector('#df-8bb42f46-4602-40aa-bce3-91afd1dff110 button.colab-df-convert');\n",
              "      buttonEl.style.display =\n",
              "        google.colab.kernel.accessAllowed ? 'block' : 'none';\n",
              "\n",
              "      async function convertToInteractive(key) {\n",
              "        const element = document.querySelector('#df-8bb42f46-4602-40aa-bce3-91afd1dff110');\n",
              "        const dataTable =\n",
              "          await google.colab.kernel.invokeFunction('convertToInteractive',\n",
              "                                                    [key], {});\n",
              "        if (!dataTable) return;\n",
              "\n",
              "        const docLinkHtml = 'Like what you see? Visit the ' +\n",
              "          '<a target=\"_blank\" href=https://colab.research.google.com/notebooks/data_table.ipynb>data table notebook</a>'\n",
              "          + ' to learn more about interactive tables.';\n",
              "        element.innerHTML = '';\n",
              "        dataTable['output_type'] = 'display_data';\n",
              "        await google.colab.output.renderOutput(dataTable, element);\n",
              "        const docLink = document.createElement('div');\n",
              "        docLink.innerHTML = docLinkHtml;\n",
              "        element.appendChild(docLink);\n",
              "      }\n",
              "    </script>\n",
              "  </div>\n",
              "\n",
              "\n",
              "    <div id=\"df-74891111-2bd5-4a33-885a-e4d95856b991\">\n",
              "      <button class=\"colab-df-quickchart\" onclick=\"quickchart('df-74891111-2bd5-4a33-885a-e4d95856b991')\"\n",
              "                title=\"Suggest charts\"\n",
              "                style=\"display:none;\">\n",
              "\n",
              "<svg xmlns=\"http://www.w3.org/2000/svg\" height=\"24px\"viewBox=\"0 0 24 24\"\n",
              "     width=\"24px\">\n",
              "    <g>\n",
              "        <path d=\"M19 3H5c-1.1 0-2 .9-2 2v14c0 1.1.9 2 2 2h14c1.1 0 2-.9 2-2V5c0-1.1-.9-2-2-2zM9 17H7v-7h2v7zm4 0h-2V7h2v10zm4 0h-2v-4h2v4z\"/>\n",
              "    </g>\n",
              "</svg>\n",
              "      </button>\n",
              "\n",
              "<style>\n",
              "  .colab-df-quickchart {\n",
              "      --bg-color: #E8F0FE;\n",
              "      --fill-color: #1967D2;\n",
              "      --hover-bg-color: #E2EBFA;\n",
              "      --hover-fill-color: #174EA6;\n",
              "      --disabled-fill-color: #AAA;\n",
              "      --disabled-bg-color: #DDD;\n",
              "  }\n",
              "\n",
              "  [theme=dark] .colab-df-quickchart {\n",
              "      --bg-color: #3B4455;\n",
              "      --fill-color: #D2E3FC;\n",
              "      --hover-bg-color: #434B5C;\n",
              "      --hover-fill-color: #FFFFFF;\n",
              "      --disabled-bg-color: #3B4455;\n",
              "      --disabled-fill-color: #666;\n",
              "  }\n",
              "\n",
              "  .colab-df-quickchart {\n",
              "    background-color: var(--bg-color);\n",
              "    border: none;\n",
              "    border-radius: 50%;\n",
              "    cursor: pointer;\n",
              "    display: none;\n",
              "    fill: var(--fill-color);\n",
              "    height: 32px;\n",
              "    padding: 0;\n",
              "    width: 32px;\n",
              "  }\n",
              "\n",
              "  .colab-df-quickchart:hover {\n",
              "    background-color: var(--hover-bg-color);\n",
              "    box-shadow: 0 1px 2px rgba(60, 64, 67, 0.3), 0 1px 3px 1px rgba(60, 64, 67, 0.15);\n",
              "    fill: var(--button-hover-fill-color);\n",
              "  }\n",
              "\n",
              "  .colab-df-quickchart-complete:disabled,\n",
              "  .colab-df-quickchart-complete:disabled:hover {\n",
              "    background-color: var(--disabled-bg-color);\n",
              "    fill: var(--disabled-fill-color);\n",
              "    box-shadow: none;\n",
              "  }\n",
              "\n",
              "  .colab-df-spinner {\n",
              "    border: 2px solid var(--fill-color);\n",
              "    border-color: transparent;\n",
              "    border-bottom-color: var(--fill-color);\n",
              "    animation:\n",
              "      spin 1s steps(1) infinite;\n",
              "  }\n",
              "\n",
              "  @keyframes spin {\n",
              "    0% {\n",
              "      border-color: transparent;\n",
              "      border-bottom-color: var(--fill-color);\n",
              "      border-left-color: var(--fill-color);\n",
              "    }\n",
              "    20% {\n",
              "      border-color: transparent;\n",
              "      border-left-color: var(--fill-color);\n",
              "      border-top-color: var(--fill-color);\n",
              "    }\n",
              "    30% {\n",
              "      border-color: transparent;\n",
              "      border-left-color: var(--fill-color);\n",
              "      border-top-color: var(--fill-color);\n",
              "      border-right-color: var(--fill-color);\n",
              "    }\n",
              "    40% {\n",
              "      border-color: transparent;\n",
              "      border-right-color: var(--fill-color);\n",
              "      border-top-color: var(--fill-color);\n",
              "    }\n",
              "    60% {\n",
              "      border-color: transparent;\n",
              "      border-right-color: var(--fill-color);\n",
              "    }\n",
              "    80% {\n",
              "      border-color: transparent;\n",
              "      border-right-color: var(--fill-color);\n",
              "      border-bottom-color: var(--fill-color);\n",
              "    }\n",
              "    90% {\n",
              "      border-color: transparent;\n",
              "      border-bottom-color: var(--fill-color);\n",
              "    }\n",
              "  }\n",
              "</style>\n",
              "\n",
              "      <script>\n",
              "        async function quickchart(key) {\n",
              "          const quickchartButtonEl =\n",
              "            document.querySelector('#' + key + ' button');\n",
              "          quickchartButtonEl.disabled = true;  // To prevent multiple clicks.\n",
              "          quickchartButtonEl.classList.add('colab-df-spinner');\n",
              "          try {\n",
              "            const charts = await google.colab.kernel.invokeFunction(\n",
              "                'suggestCharts', [key], {});\n",
              "          } catch (error) {\n",
              "            console.error('Error during call to suggestCharts:', error);\n",
              "          }\n",
              "          quickchartButtonEl.classList.remove('colab-df-spinner');\n",
              "          quickchartButtonEl.classList.add('colab-df-quickchart-complete');\n",
              "        }\n",
              "        (() => {\n",
              "          let quickchartButtonEl =\n",
              "            document.querySelector('#df-74891111-2bd5-4a33-885a-e4d95856b991 button');\n",
              "          quickchartButtonEl.style.display =\n",
              "            google.colab.kernel.accessAllowed ? 'block' : 'none';\n",
              "        })();\n",
              "      </script>\n",
              "    </div>\n",
              "\n",
              "    </div>\n",
              "  </div>\n"
            ],
            "application/vnd.google.colaboratory.intrinsic+json": {
              "type": "dataframe",
              "variable_name": "df_results",
              "summary": "{\n  \"name\": \"df_results\",\n  \"rows\": 200,\n  \"fields\": [\n    {\n      \"column\": \"hours_watched_outlier_p_values\",\n      \"properties\": {\n        \"dtype\": \"number\",\n        \"std\": 0.00436006066254905,\n        \"min\": 0.30705217945560637,\n        \"max\": 0.33021015288875755,\n        \"num_unique_values\": 200,\n        \"samples\": [\n          0.30763359903191023,\n          0.32597167127711457,\n          0.3168398806940391\n        ],\n        \"semantic_type\": \"\",\n        \"description\": \"\"\n      }\n    }\n  ]\n}"
            }
          },
          "metadata": {},
          "execution_count": 21
        }
      ]
    },
    {
      "cell_type": "code",
      "source": [
        "# Create a figure\n",
        "fig, ax = plt.subplots(nrows=1, ncols=1, figsize=(10, 7))\n",
        "\n",
        "# visualzation p-value in histogram\n",
        "ax = sns.histplot(df_results['hours_watched_outlier_p_values'], bins=20, kde=False)\n",
        "\n",
        "# add plot title and axis labels\n",
        "ax.set_xlabel('P-value', fontsize = 16)\n",
        "ax.set_ylabel('Frequency', fontsize = 16)\n",
        "\n",
        "# display plot\n",
        "plt.show()"
      ],
      "metadata": {
        "id": "n99q172Ykt2-",
        "colab": {
          "base_uri": "https://localhost:8080/",
          "height": 625
        },
        "outputId": "91dca850-e8a5-4480-829d-f0cb72778602"
      },
      "execution_count": 22,
      "outputs": [
        {
          "output_type": "display_data",
          "data": {
            "text/plain": [
              "<Figure size 1000x700 with 1 Axes>"
            ],
            "image/png": "[encoded data removed]"
          },
          "metadata": {}
        }
      ]
    },
    {
      "cell_type": "markdown",
      "source": [
        "- We can see from histogram, that the histogram of n p-values from A/A test that contain outlier is **far from uniform distribution**.\n",
        "\n",
        "- The p-value distributions are obviously not uniform, but you still need to statistically confirm whether a distribution is uniform or not.\n"
      ],
      "metadata": {
        "id": "4BbtVSeEkvEl"
      }
    },
    {
      "cell_type": "markdown",
      "source": [
        "- Then, we run the goodness-of-fit test for n p-values data.\n",
        "  - We can use **Kolmogorov-Smirnov test** for goodness of fit test\n",
        "  - The distribution of p-values should be **uniform**.\n",
        "\n",
        "- Hypothesis in the goodness of fit test for uniform distribution:\n",
        "\n",
        "  $H_0$ : The data follow a uniform distribution\n",
        "\n",
        "  $H_1$ : The data do not follow a uniform distribution"
      ],
      "metadata": {
        "id": "51tCB6CekwD8"
      }
    },
    {
      "cell_type": "markdown",
      "source": [
        "- Like the previous section, we can use function `result_ks` from `scipy` library"
      ],
      "metadata": {
        "id": "OkcqJ4ytkxY9"
      }
    },
    {
      "cell_type": "code",
      "source": [
        "# Perform kolmogorov smirnof (KS) test\n",
        "result_ks = stats.kstest(rvs = df_results['hours_watched_outlier_p_values'],\n",
        "                         cdf = \"uniform\")\n",
        "\n",
        "# save p-value of KS test\n",
        "p_value = result_ks[1]\n",
        "\n",
        "#print p-value\n",
        "print(p_value)"
      ],
      "metadata": {
        "id": "K7QKFtEtk101",
        "colab": {
          "base_uri": "https://localhost:8080/"
        },
        "outputId": "f6185e89-e448-40c1-9a4f-fffb1ced5069"
      },
      "execution_count": 23,
      "outputs": [
        {
          "output_type": "stream",
          "name": "stdout",
          "text": [
            "5.01660079210128e-89\n"
          ]
        }
      ]
    },
    {
      "cell_type": "code",
      "source": [
        "# Make decision from kolmogorof smirnov test\n",
        "# We can compare p-value with alpha\n",
        "# if p-value > alpha, then fail to reject H0. It means that the data is uniformly distributed\n",
        "\n",
        "alpha = 0.05\n",
        "if(p_value <  alpha):\n",
        "  print(\"Decision : Reject Null Hypothesis\")\n",
        "else:\n",
        "  print(\"Decision : Fail to Reject Null Hypothesis\")"
      ],
      "metadata": {
        "id": "62tZ-Xbgk3Bu",
        "colab": {
          "base_uri": "https://localhost:8080/"
        },
        "outputId": "32d5f818-adc9-4d46-a8c9-fafd2d3d35a0"
      },
      "execution_count": 24,
      "outputs": [
        {
          "output_type": "stream",
          "name": "stdout",
          "text": [
            "Decision : Reject Null Hypothesis\n"
          ]
        }
      ]
    },
    {
      "cell_type": "markdown",
      "source": [
        "**Conclusion**\n",
        "\n",
        "- The result of KS test is reject $H_0$. It means that the data is **not uniformly distributed**\n",
        "\n",
        "- From simulation of problematic the A/A test, it can be conclude that if there is outlier in our data,, the distribution of n pvalues is not uniform distribution.\n",
        "\n",
        "- We cann't detect the present of outlier in one t-test, we should doing simulation $n$ times simulation of A/A test."
      ],
      "metadata": {
        "id": "mz8c5eWdk4MU"
      }
    },
    {
      "cell_type": "markdown",
      "source": [
        "## Simulating A/A test with skew distribution of sample data"
      ],
      "metadata": {
        "id": "x-fiJEzck5uF"
      }
    },
    {
      "cell_type": "markdown",
      "source": [
        "- In the previous section, we generate data sample that have uniform distribution.\n",
        "- In this section, we will generate metric hours watched from gamma distribution with the high skewness.\n"
      ],
      "metadata": {
        "id": "997eiw87k6kr"
      }
    },
    {
      "cell_type": "code",
      "source": [
        "# Import this library first\n",
        "import numpy as np\n",
        "import pandas as pd"
      ],
      "metadata": {
        "id": "VPZivmyXk7eV"
      },
      "execution_count": 25,
      "outputs": []
    },
    {
      "cell_type": "code",
      "source": [
        "# Generate data\n",
        "np.random.seed(42)\n",
        "\n",
        "# Generate 1000 data\n",
        "n = 1000\n",
        "\n",
        "#make dataframe\n",
        "data = pd.DataFrame()\n",
        "\n",
        "#make first column of dataframe that contain channel_id\n",
        "data[\"channel_id\"] = np.random.choice(1000, n, replace = False)  # we want to generate data with the number of 1-1000 n times\n",
        "\n",
        "#make second column of dataframe that contain our metric\n",
        "data['hours_watched_skew'] = np.random.gamma(shape = 0.5,scale = 1, size = n)\n",
        "\n",
        "#print 5 rows of data\n",
        "data.head()"
      ],
      "metadata": {
        "id": "lN8X9PMSk8Pr",
        "colab": {
          "base_uri": "https://localhost:8080/",
          "height": 206
        },
        "outputId": "504b50ef-59f6-4ec5-d1c6-48f72b98a23d"
      },
      "execution_count": 26,
      "outputs": [
        {
          "output_type": "execute_result",
          "data": {
            "text/plain": [
              "   channel_id  hours_watched_skew\n",
              "0         521            0.967197\n",
              "1         737            0.526346\n",
              "2         740            0.367417\n",
              "3         660            0.169613\n",
              "4         411            2.189525"
            ],
            "text/html": [
              "\n",
              "  <div id=\"df-e1758a4b-9cca-4fb9-8900-8daad38e5cf5\" class=\"colab-df-container\">\n",
              "    <div>\n",
              "<style scoped>\n",
              "    .dataframe tbody tr th:only-of-type {\n",
              "        vertical-align: middle;\n",
              "    }\n",
              "\n",
              "    .dataframe tbody tr th {\n",
              "        vertical-align: top;\n",
              "    }\n",
              "\n",
              "    .dataframe thead th {\n",
              "        text-align: right;\n",
              "    }\n",
              "</style>\n",
              "<table border=\"1\" class=\"dataframe\">\n",
              "  <thead>\n",
              "    <tr style=\"text-align: right;\">\n",
              "      <th></th>\n",
              "      <th>channel_id</th>\n",
              "      <th>hours_watched_skew</th>\n",
              "    </tr>\n",
              "  </thead>\n",
              "  <tbody>\n",
              "    <tr>\n",
              "      <th>0</th>\n",
              "      <td>521</td>\n",
              "      <td>0.967197</td>\n",
              "    </tr>\n",
              "    <tr>\n",
              "      <th>1</th>\n",
              "      <td>737</td>\n",
              "      <td>0.526346</td>\n",
              "    </tr>\n",
              "    <tr>\n",
              "      <th>2</th>\n",
              "      <td>740</td>\n",
              "      <td>0.367417</td>\n",
              "    </tr>\n",
              "    <tr>\n",
              "      <th>3</th>\n",
              "      <td>660</td>\n",
              "      <td>0.169613</td>\n",
              "    </tr>\n",
              "    <tr>\n",
              "      <th>4</th>\n",
              "      <td>411</td>\n",
              "      <td>2.189525</td>\n",
              "    </tr>\n",
              "  </tbody>\n",
              "</table>\n",
              "</div>\n",
              "    <div class=\"colab-df-buttons\">\n",
              "\n",
              "  <div class=\"colab-df-container\">\n",
              "    <button class=\"colab-df-convert\" onclick=\"convertToInteractive('df-e1758a4b-9cca-4fb9-8900-8daad38e5cf5')\"\n",
              "            title=\"Convert this dataframe to an interactive table.\"\n",
              "            style=\"display:none;\">\n",
              "\n",
              "  <svg xmlns=\"http://www.w3.org/2000/svg\" height=\"24px\" viewBox=\"0 -960 960 960\">\n",
              "    <path d=\"M120-120v-720h720v720H120Zm60-500h600v-160H180v160Zm220 220h160v-160H400v160Zm0 220h160v-160H400v160ZM180-400h160v-160H180v160Zm440 0h160v-160H620v160ZM180-180h160v-160H180v160Zm440 0h160v-160H620v160Z\"/>\n",
              "  </svg>\n",
              "    </button>\n",
              "\n",
              "  <style>\n",
              "    .colab-df-container {\n",
              "      display:flex;\n",
              "      gap: 12px;\n",
              "    }\n",
              "\n",
              "    .colab-df-convert {\n",
              "      background-color: #E8F0FE;\n",
              "      border: none;\n",
              "      border-radius: 50%;\n",
              "      cursor: pointer;\n",
              "      display: none;\n",
              "      fill: #1967D2;\n",
              "      height: 32px;\n",
              "      padding: 0 0 0 0;\n",
              "      width: 32px;\n",
              "    }\n",
              "\n",
              "    .colab-df-convert:hover {\n",
              "      background-color: #E2EBFA;\n",
              "      box-shadow: 0px 1px 2px rgba(60, 64, 67, 0.3), 0px 1px 3px 1px rgba(60, 64, 67, 0.15);\n",
              "      fill: #174EA6;\n",
              "    }\n",
              "\n",
              "    .colab-df-buttons div {\n",
              "      margin-bottom: 4px;\n",
              "    }\n",
              "\n",
              "    [theme=dark] .colab-df-convert {\n",
              "      background-color: #3B4455;\n",
              "      fill: #D2E3FC;\n",
              "    }\n",
              "\n",
              "    [theme=dark] .colab-df-convert:hover {\n",
              "      background-color: #434B5C;\n",
              "      box-shadow: 0px 1px 3px 1px rgba(0, 0, 0, 0.15);\n",
              "      filter: drop-shadow(0px 1px 2px rgba(0, 0, 0, 0.3));\n",
              "      fill: #FFFFFF;\n",
              "    }\n",
              "  </style>\n",
              "\n",
              "    <script>\n",
              "      const buttonEl =\n",
              "        document.querySelector('#df-e1758a4b-9cca-4fb9-8900-8daad38e5cf5 button.colab-df-convert');\n",
              "      buttonEl.style.display =\n",
              "        google.colab.kernel.accessAllowed ? 'block' : 'none';\n",
              "\n",
              "      async function convertToInteractive(key) {\n",
              "        const element = document.querySelector('#df-e1758a4b-9cca-4fb9-8900-8daad38e5cf5');\n",
              "        const dataTable =\n",
              "          await google.colab.kernel.invokeFunction('convertToInteractive',\n",
              "                                                    [key], {});\n",
              "        if (!dataTable) return;\n",
              "\n",
              "        const docLinkHtml = 'Like what you see? Visit the ' +\n",
              "          '<a target=\"_blank\" href=https://colab.research.google.com/notebooks/data_table.ipynb>data table notebook</a>'\n",
              "          + ' to learn more about interactive tables.';\n",
              "        element.innerHTML = '';\n",
              "        dataTable['output_type'] = 'display_data';\n",
              "        await google.colab.output.renderOutput(dataTable, element);\n",
              "        const docLink = document.createElement('div');\n",
              "        docLink.innerHTML = docLinkHtml;\n",
              "        element.appendChild(docLink);\n",
              "      }\n",
              "    </script>\n",
              "  </div>\n",
              "\n",
              "\n",
              "    <div id=\"df-bc5acdc4-1291-4172-8921-059074dcf68b\">\n",
              "      <button class=\"colab-df-quickchart\" onclick=\"quickchart('df-bc5acdc4-1291-4172-8921-059074dcf68b')\"\n",
              "                title=\"Suggest charts\"\n",
              "                style=\"display:none;\">\n",
              "\n",
              "<svg xmlns=\"http://www.w3.org/2000/svg\" height=\"24px\"viewBox=\"0 0 24 24\"\n",
              "     width=\"24px\">\n",
              "    <g>\n",
              "        <path d=\"M19 3H5c-1.1 0-2 .9-2 2v14c0 1.1.9 2 2 2h14c1.1 0 2-.9 2-2V5c0-1.1-.9-2-2-2zM9 17H7v-7h2v7zm4 0h-2V7h2v10zm4 0h-2v-4h2v4z\"/>\n",
              "    </g>\n",
              "</svg>\n",
              "      </button>\n",
              "\n",
              "<style>\n",
              "  .colab-df-quickchart {\n",
              "      --bg-color: #E8F0FE;\n",
              "      --fill-color: #1967D2;\n",
              "      --hover-bg-color: #E2EBFA;\n",
              "      --hover-fill-color: #174EA6;\n",
              "      --disabled-fill-color: #AAA;\n",
              "      --disabled-bg-color: #DDD;\n",
              "  }\n",
              "\n",
              "  [theme=dark] .colab-df-quickchart {\n",
              "      --bg-color: #3B4455;\n",
              "      --fill-color: #D2E3FC;\n",
              "      --hover-bg-color: #434B5C;\n",
              "      --hover-fill-color: #FFFFFF;\n",
              "      --disabled-bg-color: #3B4455;\n",
              "      --disabled-fill-color: #666;\n",
              "  }\n",
              "\n",
              "  .colab-df-quickchart {\n",
              "    background-color: var(--bg-color);\n",
              "    border: none;\n",
              "    border-radius: 50%;\n",
              "    cursor: pointer;\n",
              "    display: none;\n",
              "    fill: var(--fill-color);\n",
              "    height: 32px;\n",
              "    padding: 0;\n",
              "    width: 32px;\n",
              "  }\n",
              "\n",
              "  .colab-df-quickchart:hover {\n",
              "    background-color: var(--hover-bg-color);\n",
              "    box-shadow: 0 1px 2px rgba(60, 64, 67, 0.3), 0 1px 3px 1px rgba(60, 64, 67, 0.15);\n",
              "    fill: var(--button-hover-fill-color);\n",
              "  }\n",
              "\n",
              "  .colab-df-quickchart-complete:disabled,\n",
              "  .colab-df-quickchart-complete:disabled:hover {\n",
              "    background-color: var(--disabled-bg-color);\n",
              "    fill: var(--disabled-fill-color);\n",
              "    box-shadow: none;\n",
              "  }\n",
              "\n",
              "  .colab-df-spinner {\n",
              "    border: 2px solid var(--fill-color);\n",
              "    border-color: transparent;\n",
              "    border-bottom-color: var(--fill-color);\n",
              "    animation:\n",
              "      spin 1s steps(1) infinite;\n",
              "  }\n",
              "\n",
              "  @keyframes spin {\n",
              "    0% {\n",
              "      border-color: transparent;\n",
              "      border-bottom-color: var(--fill-color);\n",
              "      border-left-color: var(--fill-color);\n",
              "    }\n",
              "    20% {\n",
              "      border-color: transparent;\n",
              "      border-left-color: var(--fill-color);\n",
              "      border-top-color: var(--fill-color);\n",
              "    }\n",
              "    30% {\n",
              "      border-color: transparent;\n",
              "      border-left-color: var(--fill-color);\n",
              "      border-top-color: var(--fill-color);\n",
              "      border-right-color: var(--fill-color);\n",
              "    }\n",
              "    40% {\n",
              "      border-color: transparent;\n",
              "      border-right-color: var(--fill-color);\n",
              "      border-top-color: var(--fill-color);\n",
              "    }\n",
              "    60% {\n",
              "      border-color: transparent;\n",
              "      border-right-color: var(--fill-color);\n",
              "    }\n",
              "    80% {\n",
              "      border-color: transparent;\n",
              "      border-right-color: var(--fill-color);\n",
              "      border-bottom-color: var(--fill-color);\n",
              "    }\n",
              "    90% {\n",
              "      border-color: transparent;\n",
              "      border-bottom-color: var(--fill-color);\n",
              "    }\n",
              "  }\n",
              "</style>\n",
              "\n",
              "      <script>\n",
              "        async function quickchart(key) {\n",
              "          const quickchartButtonEl =\n",
              "            document.querySelector('#' + key + ' button');\n",
              "          quickchartButtonEl.disabled = true;  // To prevent multiple clicks.\n",
              "          quickchartButtonEl.classList.add('colab-df-spinner');\n",
              "          try {\n",
              "            const charts = await google.colab.kernel.invokeFunction(\n",
              "                'suggestCharts', [key], {});\n",
              "          } catch (error) {\n",
              "            console.error('Error during call to suggestCharts:', error);\n",
              "          }\n",
              "          quickchartButtonEl.classList.remove('colab-df-spinner');\n",
              "          quickchartButtonEl.classList.add('colab-df-quickchart-complete');\n",
              "        }\n",
              "        (() => {\n",
              "          let quickchartButtonEl =\n",
              "            document.querySelector('#df-bc5acdc4-1291-4172-8921-059074dcf68b button');\n",
              "          quickchartButtonEl.style.display =\n",
              "            google.colab.kernel.accessAllowed ? 'block' : 'none';\n",
              "        })();\n",
              "      </script>\n",
              "    </div>\n",
              "\n",
              "    </div>\n",
              "  </div>\n"
            ],
            "application/vnd.google.colaboratory.intrinsic+json": {
              "type": "dataframe",
              "variable_name": "data",
              "summary": "{\n  \"name\": \"data\",\n  \"rows\": 1000,\n  \"fields\": [\n    {\n      \"column\": \"channel_id\",\n      \"properties\": {\n        \"dtype\": \"number\",\n        \"std\": 288,\n        \"min\": 0,\n        \"max\": 999,\n        \"num_unique_values\": 1000,\n        \"samples\": [\n          666,\n          129,\n          784\n        ],\n        \"semantic_type\": \"\",\n        \"description\": \"\"\n      }\n    },\n    {\n      \"column\": \"hours_watched_skew\",\n      \"properties\": {\n        \"dtype\": \"number\",\n        \"std\": 0.7076019674583794,\n        \"min\": 2.172151542099335e-06,\n        \"max\": 5.5281678601024336,\n        \"num_unique_values\": 1000,\n        \"samples\": [\n          2.7348857808216305e-05,\n          0.02033308992645215,\n          0.43555789462586963\n        ],\n        \"semantic_type\": \"\",\n        \"description\": \"\"\n      }\n    }\n  ]\n}"
            }
          },
          "metadata": {},
          "execution_count": 26
        }
      ]
    },
    {
      "cell_type": "code",
      "source": [
        "# overview about data\n",
        "data.info()"
      ],
      "metadata": {
        "id": "iXEUh5h-k9UM",
        "colab": {
          "base_uri": "https://localhost:8080/"
        },
        "outputId": "d8d4f6f7-d221-4cde-c5b4-ab31acbb7337"
      },
      "execution_count": 27,
      "outputs": [
        {
          "output_type": "stream",
          "name": "stdout",
          "text": [
            "<class 'pandas.core.frame.DataFrame'>\n",
            "RangeIndex: 1000 entries, 0 to 999\n",
            "Data columns (total 2 columns):\n",
            " #   Column              Non-Null Count  Dtype  \n",
            "---  ------              --------------  -----  \n",
            " 0   channel_id          1000 non-null   int64  \n",
            " 1   hours_watched_skew  1000 non-null   float64\n",
            "dtypes: float64(1), int64(1)\n",
            "memory usage: 15.8 KB\n"
          ]
        }
      ]
    },
    {
      "cell_type": "code",
      "source": [
        "import matplotlib.pyplot as plt\n",
        "import seaborn as sns\n",
        "\n",
        "fig, ax = plt.subplots(nrows=1, ncols=1, figsize=(10, 7))\n",
        "\n",
        "sns.histplot(data['hours_watched_skew'],\n",
        "             bins = 20,\n",
        "             kde = False)\n",
        "\n",
        "plt.show()"
      ],
      "metadata": {
        "id": "ZBsOiYKEk-X2",
        "colab": {
          "base_uri": "https://localhost:8080/",
          "height": 619
        },
        "outputId": "a2842ad9-381e-4943-9ef8-15e34db6607a"
      },
      "execution_count": 28,
      "outputs": [
        {
          "output_type": "display_data",
          "data": {
            "text/plain": [
              "<Figure size 1000x700 with 1 Axes>"
            ],
            "image/png": "[encoded data removed]"
          },
          "metadata": {}
        }
      ]
    },
    {
      "cell_type": "markdown",
      "source": [
        "We can see that, the data generated have skew distribution."
      ],
      "metadata": {
        "id": "-JHJ1nGblAbF"
      }
    },
    {
      "cell_type": "markdown",
      "source": [
        "- Once the data set is created, the second step is to generate the $n$ distribution of p-values from simulated A/A tests.\n",
        "- This is where we randomly divide the data into treatments or controls group for $n$ iterations\n",
        "- Then, we calculate the average in each group for $n$ iterations\n",
        "- After that, run the t-test on each split of $n$ iteration with the following hypothesis:\n",
        "\n",
        "$$H_{0} : \\mu_{\\text{A}_{\\text{control}}} = \\mu_{\\text{A}_{\\text{treatment}}}$$\n",
        "$$H_{1} : \\mu_{\\text{A}_{\\text{control}}} \\neq \\mu_{\\text{A}_{\\text{treatment}}}$$\n",
        "\n"
      ],
      "metadata": {
        "id": "KNgmN5GqlBYP"
      }
    },
    {
      "cell_type": "markdown",
      "source": [
        "- To randomly sampling data into two group, it can be done with the syntax:\n",
        "\n",
        "```python\n",
        "data.sample(n = ...,\n",
        "            replace =...)\n",
        "```\n",
        "- Descriptions\n",
        "\n",
        "  - `n` : how many sample size. In this case we want to divide equally for two group, or 50:50.\n",
        "\n",
        "  - `replace` : `True` for sampling with replacement or `False` for sampling without replacement"
      ],
      "metadata": {
        "id": "11lm6HQ6lCgF"
      }
    },
    {
      "cell_type": "code",
      "source": [
        "np.random.seed(1234)\n",
        "\n",
        "# get control dataset\n",
        "# Assign 50% of total data to control group\n",
        "control_data = data.sample(frac= 0.5,\n",
        "                           replace = False)\n",
        "\n",
        "# get statistics for the control data\n",
        "c_mean = control_data['hours_watched_skew'].mean()   #mean\n",
        "c_std  = control_data['hours_watched_skew'].std()    #standar deviation\n",
        "c_obs  = len(control_data)                      #number of observation\n",
        "\n",
        "#print statistics of control data\n",
        "print(\"A control\")\n",
        "print(f\"mean                  : {c_mean:0.3f}\")\n",
        "print(f\"standar deviation     : {c_std:0.3f}\")\n",
        "print(f\"number of observation : {c_obs}\")"
      ],
      "metadata": {
        "id": "otk_kZBXlDtk",
        "colab": {
          "base_uri": "https://localhost:8080/"
        },
        "outputId": "5367f7d7-168c-4384-de9d-cd9087c0ab0a"
      },
      "execution_count": 29,
      "outputs": [
        {
          "output_type": "stream",
          "name": "stdout",
          "text": [
            "A control\n",
            "mean                  : 0.553\n",
            "standar deviation     : 0.728\n",
            "number of observation : 500\n"
          ]
        }
      ]
    },
    {
      "cell_type": "code",
      "source": [
        "# get treatment dataset\n",
        "# treatment dataset is the remaining data that has not been assigned to control\n",
        "\n",
        "# 1. Find the index of control data\n",
        "index_control = control_data.index\n",
        "\n",
        "# 2. Find treatment data\n",
        "# Treatment = Total - Control\n",
        "treatment_data = data.drop(index = index_control)\n",
        "\n",
        "\n",
        "# get statistics for the treatment data\n",
        "t_mean = treatment_data['hours_watched_skew'].mean()  #mean\n",
        "t_std  = treatment_data['hours_watched_skew'].std()   #standar deviation\n",
        "t_obs = len(treatment_data)                      #number of observation\n",
        "\n",
        "#print statistics of treatment data\n",
        "print(\"A treatment\")\n",
        "print(f\"mean                  : {t_mean:0.3f}\")\n",
        "print(f\"standar deviation     : {t_std:0.3f}\")\n",
        "print(f\"number of observation : {t_obs}\")"
      ],
      "metadata": {
        "id": "T4-y8Lz3lE3e",
        "colab": {
          "base_uri": "https://localhost:8080/"
        },
        "outputId": "57b050bf-992a-432d-9555-9adfcb629aa9"
      },
      "execution_count": 30,
      "outputs": [
        {
          "output_type": "stream",
          "name": "stdout",
          "text": [
            "A treatment\n",
            "mean                  : 0.480\n",
            "standar deviation     : 0.686\n",
            "number of observation : 500\n"
          ]
        }
      ]
    },
    {
      "cell_type": "markdown",
      "source": [
        "Findings :\n",
        "\n",
        "- From the statistics descriptive, we can see that although the distribution have the high skewness data. There is not significant different.\n",
        "- But, we should perform hypothesis testing to prove the different between two group"
      ],
      "metadata": {
        "id": "24iNDd69lGAL"
      }
    },
    {
      "cell_type": "code",
      "source": [
        "# two sample t test\n",
        "from scipy import stats\n",
        "\n",
        "result = stats.ttest_ind_from_stats(mean1 = c_mean,  # control group\n",
        "                                    std1 = c_std,\n",
        "                                    nobs1 = c_obs,\n",
        "                                    mean2 = t_mean,  # treatment group\n",
        "                                    std2 = t_std,\n",
        "                                    nobs2 = t_obs,\n",
        "                                    equal_var = True, # Assume it is equal variance\n",
        "                                    alternative = \"two-sided\")\n",
        "\n",
        "# save p-value\n",
        "pval = result[1]\n",
        "print(f\"p-value : {pval:0.3f}\")"
      ],
      "metadata": {
        "id": "sYPg8_DSlH-I",
        "colab": {
          "base_uri": "https://localhost:8080/"
        },
        "outputId": "091f7b2b-5c09-49ba-999b-ff64c74a9c52"
      },
      "execution_count": 31,
      "outputs": [
        {
          "output_type": "stream",
          "name": "stdout",
          "text": [
            "p-value : 0.105\n"
          ]
        }
      ]
    },
    {
      "cell_type": "markdown",
      "source": [
        "- With one sampling attempt, the results obtained were p-value > 0.05 (not statistically significant).\n",
        "- It means that, there is no different between treatment and control group."
      ],
      "metadata": {
        "id": "imWtHoeUlKEl"
      }
    },
    {
      "cell_type": "markdown",
      "source": [
        "- We will simulate the A/A test with the skew metric.\n",
        "- We can directly run the function that we have defined in the first section"
      ],
      "metadata": {
        "id": "ksjDyWq1lLkk"
      }
    },
    {
      "cell_type": "code",
      "source": [
        "#simulate 200 times\n",
        "df_results = p_values(dataset = data,\n",
        "                      metric = 'hours_watched_skew',\n",
        "                      size = 0.5,\n",
        "                      n_iter = 200)\n",
        "\n",
        "#print result\n",
        "df_results.head()"
      ],
      "metadata": {
        "id": "qdwY0YDvlMZs",
        "colab": {
          "base_uri": "https://localhost:8080/",
          "height": 206
        },
        "outputId": "a3d37c4d-e665-45bf-e9c8-692f457df92a"
      },
      "execution_count": 32,
      "outputs": [
        {
          "output_type": "execute_result",
          "data": {
            "text/plain": [
              "   hours_watched_skew_p_values\n",
              "0                     0.075896\n",
              "1                     0.478323\n",
              "2                     0.129242\n",
              "3                     0.682737\n",
              "4                     0.397932"
            ],
            "text/html": [
              "\n",
              "  <div id=\"df-84777143-0cfb-4344-9595-e72480078f05\" class=\"colab-df-container\">\n",
              "    <div>\n",
              "<style scoped>\n",
              "    .dataframe tbody tr th:only-of-type {\n",
              "        vertical-align: middle;\n",
              "    }\n",
              "\n",
              "    .dataframe tbody tr th {\n",
              "        vertical-align: top;\n",
              "    }\n",
              "\n",
              "    .dataframe thead th {\n",
              "        text-align: right;\n",
              "    }\n",
              "</style>\n",
              "<table border=\"1\" class=\"dataframe\">\n",
              "  <thead>\n",
              "    <tr style=\"text-align: right;\">\n",
              "      <th></th>\n",
              "      <th>hours_watched_skew_p_values</th>\n",
              "    </tr>\n",
              "  </thead>\n",
              "  <tbody>\n",
              "    <tr>\n",
              "      <th>0</th>\n",
              "      <td>0.075896</td>\n",
              "    </tr>\n",
              "    <tr>\n",
              "      <th>1</th>\n",
              "      <td>0.478323</td>\n",
              "    </tr>\n",
              "    <tr>\n",
              "      <th>2</th>\n",
              "      <td>0.129242</td>\n",
              "    </tr>\n",
              "    <tr>\n",
              "      <th>3</th>\n",
              "      <td>0.682737</td>\n",
              "    </tr>\n",
              "    <tr>\n",
              "      <th>4</th>\n",
              "      <td>0.397932</td>\n",
              "    </tr>\n",
              "  </tbody>\n",
              "</table>\n",
              "</div>\n",
              "    <div class=\"colab-df-buttons\">\n",
              "\n",
              "  <div class=\"colab-df-container\">\n",
              "    <button class=\"colab-df-convert\" onclick=\"convertToInteractive('df-84777143-0cfb-4344-9595-e72480078f05')\"\n",
              "            title=\"Convert this dataframe to an interactive table.\"\n",
              "            style=\"display:none;\">\n",
              "\n",
              "  <svg xmlns=\"http://www.w3.org/2000/svg\" height=\"24px\" viewBox=\"0 -960 960 960\">\n",
              "    <path d=\"M120-120v-720h720v720H120Zm60-500h600v-160H180v160Zm220 220h160v-160H400v160Zm0 220h160v-160H400v160ZM180-400h160v-160H180v160Zm440 0h160v-160H620v160ZM180-180h160v-160H180v160Zm440 0h160v-160H620v160Z\"/>\n",
              "  </svg>\n",
              "    </button>\n",
              "\n",
              "  <style>\n",
              "    .colab-df-container {\n",
              "      display:flex;\n",
              "      gap: 12px;\n",
              "    }\n",
              "\n",
              "    .colab-df-convert {\n",
              "      background-color: #E8F0FE;\n",
              "      border: none;\n",
              "      border-radius: 50%;\n",
              "      cursor: pointer;\n",
              "      display: none;\n",
              "      fill: #1967D2;\n",
              "      height: 32px;\n",
              "      padding: 0 0 0 0;\n",
              "      width: 32px;\n",
              "    }\n",
              "\n",
              "    .colab-df-convert:hover {\n",
              "      background-color: #E2EBFA;\n",
              "      box-shadow: 0px 1px 2px rgba(60, 64, 67, 0.3), 0px 1px 3px 1px rgba(60, 64, 67, 0.15);\n",
              "      fill: #174EA6;\n",
              "    }\n",
              "\n",
              "    .colab-df-buttons div {\n",
              "      margin-bottom: 4px;\n",
              "    }\n",
              "\n",
              "    [theme=dark] .colab-df-convert {\n",
              "      background-color: #3B4455;\n",
              "      fill: #D2E3FC;\n",
              "    }\n",
              "\n",
              "    [theme=dark] .colab-df-convert:hover {\n",
              "      background-color: #434B5C;\n",
              "      box-shadow: 0px 1px 3px 1px rgba(0, 0, 0, 0.15);\n",
              "      filter: drop-shadow(0px 1px 2px rgba(0, 0, 0, 0.3));\n",
              "      fill: #FFFFFF;\n",
              "    }\n",
              "  </style>\n",
              "\n",
              "    <script>\n",
              "      const buttonEl =\n",
              "        document.querySelector('#df-84777143-0cfb-4344-9595-e72480078f05 button.colab-df-convert');\n",
              "      buttonEl.style.display =\n",
              "        google.colab.kernel.accessAllowed ? 'block' : 'none';\n",
              "\n",
              "      async function convertToInteractive(key) {\n",
              "        const element = document.querySelector('#df-84777143-0cfb-4344-9595-e72480078f05');\n",
              "        const dataTable =\n",
              "          await google.colab.kernel.invokeFunction('convertToInteractive',\n",
              "                                                    [key], {});\n",
              "        if (!dataTable) return;\n",
              "\n",
              "        const docLinkHtml = 'Like what you see? Visit the ' +\n",
              "          '<a target=\"_blank\" href=https://colab.research.google.com/notebooks/data_table.ipynb>data table notebook</a>'\n",
              "          + ' to learn more about interactive tables.';\n",
              "        element.innerHTML = '';\n",
              "        dataTable['output_type'] = 'display_data';\n",
              "        await google.colab.output.renderOutput(dataTable, element);\n",
              "        const docLink = document.createElement('div');\n",
              "        docLink.innerHTML = docLinkHtml;\n",
              "        element.appendChild(docLink);\n",
              "      }\n",
              "    </script>\n",
              "  </div>\n",
              "\n",
              "\n",
              "    <div id=\"df-8ed106df-46ec-42a7-8d5c-96ad7561276b\">\n",
              "      <button class=\"colab-df-quickchart\" onclick=\"quickchart('df-8ed106df-46ec-42a7-8d5c-96ad7561276b')\"\n",
              "                title=\"Suggest charts\"\n",
              "                style=\"display:none;\">\n",
              "\n",
              "<svg xmlns=\"http://www.w3.org/2000/svg\" height=\"24px\"viewBox=\"0 0 24 24\"\n",
              "     width=\"24px\">\n",
              "    <g>\n",
              "        <path d=\"M19 3H5c-1.1 0-2 .9-2 2v14c0 1.1.9 2 2 2h14c1.1 0 2-.9 2-2V5c0-1.1-.9-2-2-2zM9 17H7v-7h2v7zm4 0h-2V7h2v10zm4 0h-2v-4h2v4z\"/>\n",
              "    </g>\n",
              "</svg>\n",
              "      </button>\n",
              "\n",
              "<style>\n",
              "  .colab-df-quickchart {\n",
              "      --bg-color: #E8F0FE;\n",
              "      --fill-color: #1967D2;\n",
              "      --hover-bg-color: #E2EBFA;\n",
              "      --hover-fill-color: #174EA6;\n",
              "      --disabled-fill-color: #AAA;\n",
              "      --disabled-bg-color: #DDD;\n",
              "  }\n",
              "\n",
              "  [theme=dark] .colab-df-quickchart {\n",
              "      --bg-color: #3B4455;\n",
              "      --fill-color: #D2E3FC;\n",
              "      --hover-bg-color: #434B5C;\n",
              "      --hover-fill-color: #FFFFFF;\n",
              "      --disabled-bg-color: #3B4455;\n",
              "      --disabled-fill-color: #666;\n",
              "  }\n",
              "\n",
              "  .colab-df-quickchart {\n",
              "    background-color: var(--bg-color);\n",
              "    border: none;\n",
              "    border-radius: 50%;\n",
              "    cursor: pointer;\n",
              "    display: none;\n",
              "    fill: var(--fill-color);\n",
              "    height: 32px;\n",
              "    padding: 0;\n",
              "    width: 32px;\n",
              "  }\n",
              "\n",
              "  .colab-df-quickchart:hover {\n",
              "    background-color: var(--hover-bg-color);\n",
              "    box-shadow: 0 1px 2px rgba(60, 64, 67, 0.3), 0 1px 3px 1px rgba(60, 64, 67, 0.15);\n",
              "    fill: var(--button-hover-fill-color);\n",
              "  }\n",
              "\n",
              "  .colab-df-quickchart-complete:disabled,\n",
              "  .colab-df-quickchart-complete:disabled:hover {\n",
              "    background-color: var(--disabled-bg-color);\n",
              "    fill: var(--disabled-fill-color);\n",
              "    box-shadow: none;\n",
              "  }\n",
              "\n",
              "  .colab-df-spinner {\n",
              "    border: 2px solid var(--fill-color);\n",
              "    border-color: transparent;\n",
              "    border-bottom-color: var(--fill-color);\n",
              "    animation:\n",
              "      spin 1s steps(1) infinite;\n",
              "  }\n",
              "\n",
              "  @keyframes spin {\n",
              "    0% {\n",
              "      border-color: transparent;\n",
              "      border-bottom-color: var(--fill-color);\n",
              "      border-left-color: var(--fill-color);\n",
              "    }\n",
              "    20% {\n",
              "      border-color: transparent;\n",
              "      border-left-color: var(--fill-color);\n",
              "      border-top-color: var(--fill-color);\n",
              "    }\n",
              "    30% {\n",
              "      border-color: transparent;\n",
              "      border-left-color: var(--fill-color);\n",
              "      border-top-color: var(--fill-color);\n",
              "      border-right-color: var(--fill-color);\n",
              "    }\n",
              "    40% {\n",
              "      border-color: transparent;\n",
              "      border-right-color: var(--fill-color);\n",
              "      border-top-color: var(--fill-color);\n",
              "    }\n",
              "    60% {\n",
              "      border-color: transparent;\n",
              "      border-right-color: var(--fill-color);\n",
              "    }\n",
              "    80% {\n",
              "      border-color: transparent;\n",
              "      border-right-color: var(--fill-color);\n",
              "      border-bottom-color: var(--fill-color);\n",
              "    }\n",
              "    90% {\n",
              "      border-color: transparent;\n",
              "      border-bottom-color: var(--fill-color);\n",
              "    }\n",
              "  }\n",
              "</style>\n",
              "\n",
              "      <script>\n",
              "        async function quickchart(key) {\n",
              "          const quickchartButtonEl =\n",
              "            document.querySelector('#' + key + ' button');\n",
              "          quickchartButtonEl.disabled = true;  // To prevent multiple clicks.\n",
              "          quickchartButtonEl.classList.add('colab-df-spinner');\n",
              "          try {\n",
              "            const charts = await google.colab.kernel.invokeFunction(\n",
              "                'suggestCharts', [key], {});\n",
              "          } catch (error) {\n",
              "            console.error('Error during call to suggestCharts:', error);\n",
              "          }\n",
              "          quickchartButtonEl.classList.remove('colab-df-spinner');\n",
              "          quickchartButtonEl.classList.add('colab-df-quickchart-complete');\n",
              "        }\n",
              "        (() => {\n",
              "          let quickchartButtonEl =\n",
              "            document.querySelector('#df-8ed106df-46ec-42a7-8d5c-96ad7561276b button');\n",
              "          quickchartButtonEl.style.display =\n",
              "            google.colab.kernel.accessAllowed ? 'block' : 'none';\n",
              "        })();\n",
              "      </script>\n",
              "    </div>\n",
              "\n",
              "    </div>\n",
              "  </div>\n"
            ],
            "application/vnd.google.colaboratory.intrinsic+json": {
              "type": "dataframe",
              "variable_name": "df_results",
              "summary": "{\n  \"name\": \"df_results\",\n  \"rows\": 200,\n  \"fields\": [\n    {\n      \"column\": \"hours_watched_skew_p_values\",\n      \"properties\": {\n        \"dtype\": \"number\",\n        \"std\": 0.26464924373457005,\n        \"min\": 0.0033467224320531215,\n        \"max\": 0.9936413970039399,\n        \"num_unique_values\": 200,\n        \"samples\": [\n          0.9177928421777769,\n          0.3318902661799702,\n          0.0033467224320531215\n        ],\n        \"semantic_type\": \"\",\n        \"description\": \"\"\n      }\n    }\n  ]\n}"
            }
          },
          "metadata": {},
          "execution_count": 32
        }
      ]
    },
    {
      "cell_type": "markdown",
      "source": [
        "- After that, we make histogram of p-value to see the plot of distribution"
      ],
      "metadata": {
        "id": "pfoWteGvlQO2"
      }
    },
    {
      "cell_type": "code",
      "source": [
        "# Create a figure\n",
        "fig, ax = plt.subplots(nrows=1, ncols=1, figsize=(10, 7))\n",
        "\n",
        "# visualzation p-value in histogram\n",
        "ax = sns.histplot(df_results['hours_watched_skew_p_values'], bins=20, kde=False)\n",
        "\n",
        "# add plot title and axis labels\n",
        "ax.set_xlabel('P-value', fontsize = 16)\n",
        "ax.set_ylabel('Frequency', fontsize = 16)\n",
        "\n",
        "# display plot\n",
        "plt.show()"
      ],
      "metadata": {
        "id": "zVv8WV3blRED",
        "colab": {
          "base_uri": "https://localhost:8080/",
          "height": 625
        },
        "outputId": "0c11402f-d25a-4cf3-b780-b206aa99d1c3"
      },
      "execution_count": 33,
      "outputs": [
        {
          "output_type": "display_data",
          "data": {
            "text/plain": [
              "<Figure size 1000x700 with 1 Axes>"
            ],
            "image/png": "[encoded data removed]"
          },
          "metadata": {}
        }
      ]
    },
    {
      "cell_type": "markdown",
      "source": [
        "From histogram of 200 p-values :\n",
        "- It should be 5% of 200 iterations (or 10 test) that has the p-value < 0.05, but from the histogram, there are more than 5% of times that the p-value < 0.05.\n",
        "\n",
        "- This indicates there is a problem with our experiment. Obviously, because our metrics or data have high skew.\n",
        "\n",
        "- With the A/A test simulation, we can detect that there is a problem\n",
        "\n"
      ],
      "metadata": {
        "id": "V2iGhYwflcgA"
      }
    },
    {
      "cell_type": "markdown",
      "source": [
        "- Then, we run the goodness-of-fit test for n p-values data.\n",
        "  - We can use **Kolmogorov-Smirnov test** for goodness of fit test\n",
        "  - The distribution of p-values should be **uniform**.\n",
        "\n",
        "- Hypothesis in the goodness of fit test for uniform distribution:\n",
        "\n",
        "  $H_0$ : The data follow a uniform distribution\n",
        "\n",
        "  $H_1$ : The data do not follow a uniform distribution"
      ],
      "metadata": {
        "id": "VfDkw7V4ldq0"
      }
    },
    {
      "cell_type": "markdown",
      "source": [
        "We can use function `result_ks` from `scipy` library, with the following syntax :  \n",
        "\n",
        "```\n",
        "stats.kstest(rvs= ..,\n",
        "             cdf= ...)\n",
        "```\n",
        "\n",
        "Description :\n",
        "- rvs : random variables or the data we want to test\n",
        "- cdf : The name of distribution. It should be a string, and should be the name of a distribution in scipy.stats [scipy.stats](https://docs.scipy.org/doc/scipy/reference/stats.html#module-scipy.stats)"
      ],
      "metadata": {
        "id": "JIaOIs28le1j"
      }
    },
    {
      "cell_type": "code",
      "source": [
        "# Perform kolmogorov smirnof (KS) test\n",
        "result_ks = stats.kstest(rvs = df_results['hours_watched_skew_p_values'],\n",
        "                         cdf = \"uniform\")\n",
        "\n",
        "# save p-value of KS test\n",
        "p_value = result_ks[1]\n",
        "\n",
        "#print p-value\n",
        "print(p_value)"
      ],
      "metadata": {
        "id": "dNx1Cv5IlgVe",
        "colab": {
          "base_uri": "https://localhost:8080/"
        },
        "outputId": "e23d47ff-2b4a-426f-f727-8f6454ecaaad"
      },
      "execution_count": 34,
      "outputs": [
        {
          "output_type": "stream",
          "name": "stdout",
          "text": [
            "0.031203762164840776\n"
          ]
        }
      ]
    },
    {
      "cell_type": "code",
      "source": [
        "# Make decision from kolmogorof smirnov test\n",
        "# We can compare p-value with alpha\n",
        "# if p-value > alpha, then fail to reject H0. It means that the data is uniformly distributed\n",
        "\n",
        "alpha = 0.05\n",
        "if(p_value <  alpha):\n",
        "  print(\"Decision : Reject Null Hypothesis\")\n",
        "else:\n",
        "  print(\"Decision : Fail to Reject Null Hypothesis\")"
      ],
      "metadata": {
        "id": "n2XevQ10lhUD",
        "colab": {
          "base_uri": "https://localhost:8080/"
        },
        "outputId": "32cec828-d9d0-490d-ce6d-e27179550542"
      },
      "execution_count": 35,
      "outputs": [
        {
          "output_type": "stream",
          "name": "stdout",
          "text": [
            "Decision : Reject Null Hypothesis\n"
          ]
        }
      ]
    },
    {
      "cell_type": "markdown",
      "source": [
        "**Conclusion**\n",
        "\n",
        "- The result of KS test is reject $H_0$. It means that the data is **not uniformly distributed** for metric that have high skew data."
      ],
      "metadata": {
        "id": "VX-hcgbcljII"
      }
    },
    {
      "cell_type": "markdown",
      "source": [
        "---\n",
        "**Question!**\n",
        "\n",
        "What if the metric data has a pattern that is close to a normal distribution, will the distribution of the p-values be uniform or not if the A/A test is simulated?"
      ],
      "metadata": {
        "id": "fyoTewVLlkxV"
      }
    },
    {
      "cell_type": "markdown",
      "source": [
        "Reference of this notebook\n",
        "\n",
        "\n",
        "[Reference 1](https://github.com/LeihuaYe/Statistical_Simulation_In_Python/blob/master/4.%20AA%20Test.ipynb)\n",
        "\n",
        "[Reference 2](https://blog.twitch.tv/en/2021/11/04/simulated-bootstrapped-aa-tests-1/)"
      ],
      "metadata": {
        "id": "rGsNn6MKlmX7"
      }
    }
  ]
}